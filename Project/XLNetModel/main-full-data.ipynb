{
 "cells": [
  {
   "cell_type": "markdown",
   "metadata": {},
   "source": [
    "# XLNet version 1\n",
    "\n",
    "Hate speech identification project, D7047E <br>\n",
    "Binary text classification task using pretrained XLNet models"
   ]
  },
  {
   "cell_type": "code",
   "execution_count": 1,
   "metadata": {},
   "outputs": [
    {
     "name": "stdout",
     "output_type": "stream",
     "text": [
      "using cuda\n"
     ]
    },
    {
     "name": "stderr",
     "output_type": "stream",
     "text": [
      "c:\\Users\\hanne\\Desktop\\d7047e\\Project\\XLNetModel\\..\\proj_dataset.py:18: UserWarning: Disabling panda dataframe warnings, to enable comment out lines below\n",
      "  warnings.warn(\"Disabling panda dataframe warnings, to enable comment out lines below\")\n"
     ]
    }
   ],
   "source": [
    "\"\"\" \n",
    "%pip install numpy\n",
    "%pip install torch\n",
    "%pip install torchvision\n",
    "%pip install sentencepiece\n",
    "%pip install transformers\n",
    "%pip install datasets\n",
    "%pip install evaluate\n",
    "%pip install accelerate\n",
    "%pip install imbalanced-learn\n",
    "\"\"\"\n",
    "\n",
    "# PyTorch\n",
    "import torch\n",
    "import torchvision\n",
    "\n",
    "# Hugging Face\n",
    "from transformers import XLNetTokenizer, XLNetForSequenceClassification\n",
    "from transformers import TrainingArguments, Trainer\n",
    "from datasets import Dataset\n",
    "import datasets\n",
    "import evaluate\n",
    "\n",
    "# Misc\n",
    "from tqdm import tqdm, trange\n",
    "import pandas as pd\n",
    "import numpy as np\n",
    "from matplotlib import pyplot as plt\n",
    "\n",
    "# Set up loaders \n",
    "import sys; sys.path.append(\"..\")\n",
    "import proj_dataset\n",
    "proj_dataset.FOLDERSPATH = r'..\\\\datasets'\n",
    "\n",
    "# Set up cudas\n",
    "device = torch.device(\"cuda\" if torch.cuda.is_available() else \"cpu\")\n",
    "if torch.cuda.is_available(): torch.cuda.empty_cache()\n",
    "print(f\"using {device}\")"
   ]
  },
  {
   "cell_type": "code",
   "execution_count": 2,
   "metadata": {},
   "outputs": [],
   "source": [
    "# aux files\n",
    "path_output = r\"trained\\\\\"\n",
    "\n",
    "# Constants\n",
    "GLOBAL_SEED = 1337\n",
    "TOKENIZER_MAX_LENGTH = 128\n",
    "torch.manual_seed(GLOBAL_SEED)\n",
    "\n",
    "tokenizer_config = {\n",
    "    \"padding\": \"max_length\", \n",
    "    \"truncation\": \"longest_first\",\n",
    "    \"max_length\": TOKENIZER_MAX_LENGTH,\n",
    "}"
   ]
  },
  {
   "cell_type": "code",
   "execution_count": 3,
   "metadata": {},
   "outputs": [
    {
     "name": "stdout",
     "output_type": "stream",
     "text": [
      "Loaded 100000 lines from file_off.xlsx to ensure sufficient randomness, cap: 50000\n",
      "Loaded 100000 lines from file_not.xlsx to ensure sufficient randomness, cap: 50000\n",
      "Loaded 13240 lines from ..\\\\datasets\\\\OLID\\\\OLID_Tain.txt\n",
      "Loaded 5852 lines from english_dataset.tsv\n",
      "Loaded 1153 lines from hasoc2019_en_test-2919.tsv\n",
      "(80000, 2)\n",
      "(20000, 2)\n",
      "(13240, 2)\n",
      "(7005, 2)\n"
     ]
    }
   ],
   "source": [
    "train_df, val_df = proj_dataset._load_solid_set(size=100_000, tr_split_perc=0.8)\n",
    "test_df_1 = proj_dataset._load_olid_test_set()\n",
    "test_df_2 = proj_dataset._load_hasoc_test_set()\n",
    "print(train_df.shape)\n",
    "print(val_df.shape)\n",
    "print(test_df_1.shape)\n",
    "print(test_df_2.shape)"
   ]
  },
  {
   "cell_type": "code",
   "execution_count": 4,
   "metadata": {},
   "outputs": [],
   "source": [
    "tokenizer = XLNetTokenizer.from_pretrained(\n",
    "    'xlnet-base-cased',\n",
    "    device=device\n",
    ")\n",
    "\n",
    "def tokenize_examples(examples):\n",
    "    return tokenizer(examples[\"text\"], **tokenizer_config)"
   ]
  },
  {
   "cell_type": "code",
   "execution_count": 5,
   "metadata": {},
   "outputs": [],
   "source": [
    "# Load \n",
    "def convert_sets(s):\n",
    "    s = s.rename(columns={\"sentence\":\"text\", \"label1\":\"label\"})\n",
    "    ds = Dataset.from_dict(s)\n",
    "    ds = ds.map(tokenize_examples, batched=True)\n",
    "    return ds"
   ]
  },
  {
   "cell_type": "code",
   "execution_count": 6,
   "metadata": {},
   "outputs": [
    {
     "data": {
      "application/vnd.jupyter.widget-view+json": {
       "model_id": "d463c91a3cd9454ba66b172abd506154",
       "version_major": 2,
       "version_minor": 0
      },
      "text/plain": [
       "Map:   0%|          | 0/80000 [00:00<?, ? examples/s]"
      ]
     },
     "metadata": {},
     "output_type": "display_data"
    },
    {
     "data": {
      "application/vnd.jupyter.widget-view+json": {
       "model_id": "68919f50922c4112a93b17a600b3bd4f",
       "version_major": 2,
       "version_minor": 0
      },
      "text/plain": [
       "Map:   0%|          | 0/20000 [00:00<?, ? examples/s]"
      ]
     },
     "metadata": {},
     "output_type": "display_data"
    },
    {
     "data": {
      "application/vnd.jupyter.widget-view+json": {
       "model_id": "ac04607ed0c24897a4262f0827f24e63",
       "version_major": 2,
       "version_minor": 0
      },
      "text/plain": [
       "Map:   0%|          | 0/13240 [00:00<?, ? examples/s]"
      ]
     },
     "metadata": {},
     "output_type": "display_data"
    },
    {
     "data": {
      "application/vnd.jupyter.widget-view+json": {
       "model_id": "237bf0a927d14058b00f2eae37baa1df",
       "version_major": 2,
       "version_minor": 0
      },
      "text/plain": [
       "Map:   0%|          | 0/7005 [00:00<?, ? examples/s]"
      ]
     },
     "metadata": {},
     "output_type": "display_data"
    },
    {
     "name": "stdout",
     "output_type": "stream",
     "text": [
      "Dataset({\n",
      "    features: ['text', 'label', 'input_ids', 'token_type_ids', 'attention_mask'],\n",
      "    num_rows: 80000\n",
      "})\n",
      "Dataset({\n",
      "    features: ['text', 'label', 'input_ids', 'token_type_ids', 'attention_mask'],\n",
      "    num_rows: 20000\n",
      "})\n",
      "Dataset({\n",
      "    features: ['text', 'label', 'input_ids', 'token_type_ids', 'attention_mask'],\n",
      "    num_rows: 13240\n",
      "})\n",
      "Dataset({\n",
      "    features: ['text', 'label', 'input_ids', 'token_type_ids', 'attention_mask'],\n",
      "    num_rows: 7005\n",
      "})\n"
     ]
    }
   ],
   "source": [
    "train_set = convert_sets(train_df)\n",
    "val_set = convert_sets(val_df)\n",
    "test_set_1 = convert_sets(test_df_1)\n",
    "test_set_2 = convert_sets(test_df_2)\n",
    "\n",
    "print(train_set)\n",
    "print(val_set)\n",
    "print(test_set_1)\n",
    "print(test_set_2)"
   ]
  },
  {
   "cell_type": "code",
   "execution_count": 7,
   "metadata": {},
   "outputs": [],
   "source": [
    "def getTrainLabelDistrib(ds):\n",
    "    labels_dist = {}\n",
    "    for e in ds:\n",
    "        lab = e[\"label\"] \n",
    "        if not lab in labels_dist: labels_dist[lab] = 0\n",
    "        else: labels_dist[lab] += 1\n",
    "\n",
    "    print(labels_dist)"
   ]
  },
  {
   "cell_type": "code",
   "execution_count": 8,
   "metadata": {},
   "outputs": [],
   "source": [
    "#getTrainLabelDistrib(train_set)\n",
    "#getTrainLabelDistrib(val_set)\n",
    "#getTrainLabelDistrib(test_set_1)\n",
    "#getTrainLabelDistrib(test_set_2)"
   ]
  },
  {
   "cell_type": "code",
   "execution_count": 9,
   "metadata": {},
   "outputs": [
    {
     "name": "stderr",
     "output_type": "stream",
     "text": [
      "Some weights of XLNetForSequenceClassification were not initialized from the model checkpoint at xlnet-base-cased and are newly initialized: ['logits_proj.bias', 'logits_proj.weight', 'sequence_summary.summary.bias', 'sequence_summary.summary.weight']\n",
      "You should probably TRAIN this model on a down-stream task to be able to use it for predictions and inference.\n"
     ]
    },
    {
     "name": "stdout",
     "output_type": "stream",
     "text": [
      "XLNetConfig {\n",
      "  \"_name_or_path\": \"xlnet-base-cased\",\n",
      "  \"architectures\": [\n",
      "    \"XLNetLMHeadModel\"\n",
      "  ],\n",
      "  \"attn_type\": \"bi\",\n",
      "  \"bi_data\": false,\n",
      "  \"bos_token_id\": 1,\n",
      "  \"clamp_len\": -1,\n",
      "  \"d_head\": 64,\n",
      "  \"d_inner\": 3072,\n",
      "  \"d_model\": 768,\n",
      "  \"dropout\": 0.1,\n",
      "  \"end_n_top\": 5,\n",
      "  \"eos_token_id\": 2,\n",
      "  \"ff_activation\": \"gelu\",\n",
      "  \"initializer_range\": 0.02,\n",
      "  \"layer_norm_eps\": 1e-12,\n",
      "  \"mem_len\": null,\n",
      "  \"model_type\": \"xlnet\",\n",
      "  \"n_head\": 12,\n",
      "  \"n_layer\": 12,\n",
      "  \"pad_token_id\": 5,\n",
      "  \"reuse_len\": null,\n",
      "  \"same_length\": false,\n",
      "  \"start_n_top\": 5,\n",
      "  \"summary_activation\": \"tanh\",\n",
      "  \"summary_last_dropout\": 0.1,\n",
      "  \"summary_type\": \"last\",\n",
      "  \"summary_use_proj\": true,\n",
      "  \"task_specific_params\": {\n",
      "    \"text-generation\": {\n",
      "      \"do_sample\": true,\n",
      "      \"max_length\": 250\n",
      "    }\n",
      "  },\n",
      "  \"transformers_version\": \"4.40.2\",\n",
      "  \"untie_r\": true,\n",
      "  \"use_mems_eval\": true,\n",
      "  \"use_mems_train\": false,\n",
      "  \"vocab_size\": 32000\n",
      "}\n",
      "\n",
      "True\n"
     ]
    }
   ],
   "source": [
    "# Model \n",
    "# docs: https://huggingface.co/docs/transformers/model_doc/xlnet\n",
    "\n",
    "xlnet_model = XLNetForSequenceClassification.from_pretrained(\n",
    "    \"xlnet-base-cased\", \n",
    "    num_labels=2\n",
    ")\n",
    "xlnet_model.to(device)\n",
    "\n",
    "print(xlnet_model.config)\n",
    "print(next(xlnet_model.parameters()).is_cuda)"
   ]
  },
  {
   "cell_type": "code",
   "execution_count": 11,
   "metadata": {},
   "outputs": [
    {
     "data": {
      "application/vnd.jupyter.widget-view+json": {
       "model_id": "1b151800cf71440e8faabc0fc41f6341",
       "version_major": 2,
       "version_minor": 0
      },
      "text/plain": [
       "  0%|          | 0/8750 [00:00<?, ?it/s]"
      ]
     },
     "metadata": {},
     "output_type": "display_data"
    },
    {
     "name": "stdout",
     "output_type": "stream",
     "text": [
      "{'loss': 0.024, 'grad_norm': 0.015222004614770412, 'learning_rate': 4.8571428571428576e-05, 'epoch': 0.2}\n",
      "{'loss': 0.0294, 'grad_norm': 0.7302464246749878, 'learning_rate': 4.714285714285714e-05, 'epoch': 0.4}\n",
      "{'loss': 0.0248, 'grad_norm': 0.05608579143881798, 'learning_rate': 4.5714285714285716e-05, 'epoch': 0.6}\n",
      "{'loss': 0.0156, 'grad_norm': 0.029661787673830986, 'learning_rate': 4.428571428571428e-05, 'epoch': 0.8}\n",
      "{'loss': 0.0128, 'grad_norm': 0.39592063426971436, 'learning_rate': 4.2857142857142856e-05, 'epoch': 1.0}\n"
     ]
    },
    {
     "data": {
      "application/vnd.jupyter.widget-view+json": {
       "model_id": "388b89d23d904e34bc3057c978a63db8",
       "version_major": 2,
       "version_minor": 0
      },
      "text/plain": [
       "  0%|          | 0/625 [00:00<?, ?it/s]"
      ]
     },
     "metadata": {},
     "output_type": "display_data"
    },
    {
     "name": "stdout",
     "output_type": "stream",
     "text": [
      "{'eval_loss': 0.012622741982340813, 'eval_accuracy': 0.99745, 'eval_runtime': 58.322, 'eval_samples_per_second': 342.924, 'eval_steps_per_second': 10.716, 'epoch': 1.0}\n",
      "{'loss': 0.0087, 'grad_norm': 0.0157177671790123, 'learning_rate': 4.1428571428571437e-05, 'epoch': 1.2}\n",
      "{'loss': 0.0091, 'grad_norm': 0.026947589591145515, 'learning_rate': 4e-05, 'epoch': 1.4}\n",
      "{'loss': 0.0102, 'grad_norm': 0.04409029334783554, 'learning_rate': 3.857142857142858e-05, 'epoch': 1.6}\n",
      "{'loss': 0.0058, 'grad_norm': 0.008663573302328587, 'learning_rate': 3.7142857142857143e-05, 'epoch': 1.8}\n",
      "{'loss': 0.007, 'grad_norm': 0.014832334592938423, 'learning_rate': 3.571428571428572e-05, 'epoch': 2.0}\n"
     ]
    },
    {
     "data": {
      "application/vnd.jupyter.widget-view+json": {
       "model_id": "6085a4f167fc4f6f9de792e5e7e84ee1",
       "version_major": 2,
       "version_minor": 0
      },
      "text/plain": [
       "  0%|          | 0/625 [00:00<?, ?it/s]"
      ]
     },
     "metadata": {},
     "output_type": "display_data"
    },
    {
     "name": "stdout",
     "output_type": "stream",
     "text": [
      "{'eval_loss': 0.013237766921520233, 'eval_accuracy': 0.9979, 'eval_runtime': 57.709, 'eval_samples_per_second': 346.566, 'eval_steps_per_second': 10.83, 'epoch': 2.0}\n",
      "{'loss': 0.0057, 'grad_norm': 0.01556894090026617, 'learning_rate': 3.428571428571429e-05, 'epoch': 2.2}\n",
      "{'loss': 0.0057, 'grad_norm': 0.017705420032143593, 'learning_rate': 3.285714285714286e-05, 'epoch': 2.4}\n",
      "{'loss': 0.0061, 'grad_norm': 0.024551911279559135, 'learning_rate': 3.142857142857143e-05, 'epoch': 2.6}\n",
      "{'loss': 0.0071, 'grad_norm': 0.020124591886997223, 'learning_rate': 3e-05, 'epoch': 2.8}\n",
      "{'loss': 0.0056, 'grad_norm': 0.016912806779146194, 'learning_rate': 2.857142857142857e-05, 'epoch': 3.0}\n"
     ]
    },
    {
     "data": {
      "application/vnd.jupyter.widget-view+json": {
       "model_id": "4c19c1ce61ec4f06a7a023d55f3aa514",
       "version_major": 2,
       "version_minor": 0
      },
      "text/plain": [
       "  0%|          | 0/625 [00:00<?, ?it/s]"
      ]
     },
     "metadata": {},
     "output_type": "display_data"
    },
    {
     "name": "stdout",
     "output_type": "stream",
     "text": [
      "{'eval_loss': 0.007693163119256496, 'eval_accuracy': 0.9985, 'eval_runtime': 57.794, 'eval_samples_per_second': 346.057, 'eval_steps_per_second': 10.814, 'epoch': 3.0}\n",
      "{'loss': 0.0049, 'grad_norm': 0.01155016664415598, 'learning_rate': 2.714285714285714e-05, 'epoch': 3.2}\n",
      "{'loss': 0.0058, 'grad_norm': 0.025853067636489868, 'learning_rate': 2.5714285714285714e-05, 'epoch': 3.4}\n",
      "{'loss': 0.0048, 'grad_norm': 0.013756386004388332, 'learning_rate': 2.4285714285714288e-05, 'epoch': 3.6}\n",
      "{'loss': 0.0034, 'grad_norm': 0.010133565403521061, 'learning_rate': 2.2857142857142858e-05, 'epoch': 3.8}\n",
      "{'loss': 0.0044, 'grad_norm': 0.010265562683343887, 'learning_rate': 2.1428571428571428e-05, 'epoch': 4.0}\n"
     ]
    },
    {
     "data": {
      "application/vnd.jupyter.widget-view+json": {
       "model_id": "a888a0ed8ec6495b805ffcf046a60bcc",
       "version_major": 2,
       "version_minor": 0
      },
      "text/plain": [
       "  0%|          | 0/625 [00:00<?, ?it/s]"
      ]
     },
     "metadata": {},
     "output_type": "display_data"
    },
    {
     "name": "stdout",
     "output_type": "stream",
     "text": [
      "{'eval_loss': 0.016242433339357376, 'eval_accuracy': 0.9975, 'eval_runtime': 58.15, 'eval_samples_per_second': 343.938, 'eval_steps_per_second': 10.748, 'epoch': 4.0}\n",
      "{'loss': 0.0046, 'grad_norm': 0.6688699722290039, 'learning_rate': 2e-05, 'epoch': 4.2}\n",
      "{'loss': 0.0041, 'grad_norm': 0.017884202301502228, 'learning_rate': 1.8571428571428572e-05, 'epoch': 4.4}\n",
      "{'loss': 0.0033, 'grad_norm': 0.013853367418050766, 'learning_rate': 1.7142857142857145e-05, 'epoch': 4.6}\n",
      "{'loss': 0.0019, 'grad_norm': 0.008667383342981339, 'learning_rate': 1.5714285714285715e-05, 'epoch': 4.8}\n",
      "{'loss': 0.0022, 'grad_norm': 0.005284450948238373, 'learning_rate': 1.4285714285714285e-05, 'epoch': 5.0}\n"
     ]
    },
    {
     "data": {
      "application/vnd.jupyter.widget-view+json": {
       "model_id": "3c3239f0613a4c2cb8ea4e925f46212b",
       "version_major": 2,
       "version_minor": 0
      },
      "text/plain": [
       "  0%|          | 0/625 [00:00<?, ?it/s]"
      ]
     },
     "metadata": {},
     "output_type": "display_data"
    },
    {
     "name": "stdout",
     "output_type": "stream",
     "text": [
      "{'eval_loss': 0.00882373284548521, 'eval_accuracy': 0.9988, 'eval_runtime': 57.7326, 'eval_samples_per_second': 346.425, 'eval_steps_per_second': 10.826, 'epoch': 5.0}\n",
      "{'loss': 0.0034, 'grad_norm': 0.011829114519059658, 'learning_rate': 1.2857142857142857e-05, 'epoch': 5.2}\n",
      "{'loss': 0.0094, 'grad_norm': 0.016215050593018532, 'learning_rate': 1.1428571428571429e-05, 'epoch': 5.4}\n",
      "{'loss': 0.0036, 'grad_norm': 0.007878201082348824, 'learning_rate': 1e-05, 'epoch': 5.6}\n",
      "{'loss': 0.0037, 'grad_norm': 0.008109837770462036, 'learning_rate': 8.571428571428573e-06, 'epoch': 5.8}\n",
      "{'loss': 0.0009, 'grad_norm': 0.004970792215317488, 'learning_rate': 7.142857142857143e-06, 'epoch': 6.0}\n"
     ]
    },
    {
     "data": {
      "application/vnd.jupyter.widget-view+json": {
       "model_id": "8752aef43b8f4de9970e403d9859d83c",
       "version_major": 2,
       "version_minor": 0
      },
      "text/plain": [
       "  0%|          | 0/625 [00:00<?, ?it/s]"
      ]
     },
     "metadata": {},
     "output_type": "display_data"
    },
    {
     "name": "stdout",
     "output_type": "stream",
     "text": [
      "{'eval_loss': 0.007150772958993912, 'eval_accuracy': 0.9982, 'eval_runtime': 57.7311, 'eval_samples_per_second': 346.434, 'eval_steps_per_second': 10.826, 'epoch': 6.0}\n",
      "{'loss': 0.0025, 'grad_norm': 0.005762224085628986, 'learning_rate': 5.7142857142857145e-06, 'epoch': 6.2}\n",
      "{'loss': 0.0022, 'grad_norm': 0.005673717241734266, 'learning_rate': 4.285714285714286e-06, 'epoch': 6.4}\n",
      "{'loss': 0.0007, 'grad_norm': 0.005067917052656412, 'learning_rate': 2.8571428571428573e-06, 'epoch': 6.6}\n",
      "{'loss': 0.0002, 'grad_norm': 0.00397880282253027, 'learning_rate': 1.4285714285714286e-06, 'epoch': 6.8}\n",
      "{'loss': 0.0007, 'grad_norm': 0.0033890309277921915, 'learning_rate': 0.0, 'epoch': 7.0}\n"
     ]
    },
    {
     "data": {
      "application/vnd.jupyter.widget-view+json": {
       "model_id": "3216476bef8240c7b0bed528e6ecb613",
       "version_major": 2,
       "version_minor": 0
      },
      "text/plain": [
       "  0%|          | 0/625 [00:00<?, ?it/s]"
      ]
     },
     "metadata": {},
     "output_type": "display_data"
    },
    {
     "name": "stdout",
     "output_type": "stream",
     "text": [
      "{'eval_loss': 0.00764233386144042, 'eval_accuracy': 0.9989, 'eval_runtime': 57.8975, 'eval_samples_per_second': 345.438, 'eval_steps_per_second': 10.795, 'epoch': 7.0}\n",
      "{'train_runtime': 4476.7089, 'train_samples_per_second': 125.092, 'train_steps_per_second': 1.955, 'train_loss': 0.0069872004623923985, 'epoch': 7.0}\n"
     ]
    },
    {
     "data": {
      "text/plain": [
       "TrainOutput(global_step=8750, training_loss=0.0069872004623923985, metrics={'train_runtime': 4476.7089, 'train_samples_per_second': 125.092, 'train_steps_per_second': 1.955, 'total_flos': 3.988323913728e+16, 'train_loss': 0.0069872004623923985, 'epoch': 7.0})"
      ]
     },
     "execution_count": 11,
     "metadata": {},
     "output_type": "execute_result"
    }
   ],
   "source": [
    "# Fine-tuning\n",
    "# https://huggingface.co/docs/transformers/training\n",
    "\n",
    "metric = evaluate.load(\"accuracy\")\n",
    "def compute_model_metrics(eval_pred):\n",
    "    global metric\n",
    "    logits, labels = eval_pred\n",
    "    preds = np.argmax(logits, axis=1)\n",
    "    return metric.compute(predictions=preds, references=labels)\n",
    "\n",
    "\n",
    "device_batch_size = 32\n",
    "grad_steps = 2\n",
    "calc_steps = len(train_set) // (device_batch_size * grad_steps * 5) \n",
    "\n",
    "\n",
    "tr_args = TrainingArguments(\n",
    "    do_train=True, do_eval=True, evaluation_strategy=\"epoch\", output_dir=path_output,\n",
    "    \n",
    "    logging_steps=calc_steps, # For larger size dataset\n",
    "    eval_accumulation_steps=10, # To prevent cuda OOM after training\n",
    "    per_device_eval_batch_size=device_batch_size,\n",
    "    per_device_train_batch_size=device_batch_size,\n",
    "    bf16=True, \n",
    "    # dataloader_pin_memory=True, dataloader_num_workers=8, # Load data on GPU\n",
    "    #fp16=True,\n",
    "\n",
    "    num_train_epochs = 7, \n",
    "    gradient_accumulation_steps=grad_steps,\n",
    "    weight_decay=0.1,\n",
    "    save_strategy=\"no\",\n",
    "    # use_cpu=True\n",
    ")\n",
    "\n",
    "trainer = Trainer(\n",
    "    model=xlnet_model,\n",
    "    args=tr_args,\n",
    "    train_dataset=train_set,\n",
    "    eval_dataset=val_set,\n",
    "    compute_metrics=compute_model_metrics\n",
    ")\n",
    "trainer.train()"
   ]
  },
  {
   "cell_type": "code",
   "execution_count": 12,
   "metadata": {},
   "outputs": [
    {
     "data": {
      "application/vnd.jupyter.widget-view+json": {
       "model_id": "fe9e287c88854e60959646dcf0c0974a",
       "version_major": 2,
       "version_minor": 0
      },
      "text/plain": [
       "  0%|          | 0/414 [00:00<?, ?it/s]"
      ]
     },
     "metadata": {},
     "output_type": "display_data"
    },
    {
     "name": "stdout",
     "output_type": "stream",
     "text": [
      "True labels {'0': 4400, '1': 8840}\n",
      "Predicted labels {'0': 5399, '1': 7841}\n"
     ]
    },
    {
     "data": {
      "text/plain": [
       "{'accuracy': 0.7778700906344411,\n",
       " 'f1': 0.823691625202326,\n",
       " 'precision': 0.8761637546231348,\n",
       " 'recall': 0.7771493212669683,\n",
       " 'confusion_matrix': array([[3429,  971],\n",
       "        [1970, 6870]], dtype=int64)}"
      ]
     },
     "execution_count": 12,
     "metadata": {},
     "output_type": "execute_result"
    }
   ],
   "source": [
    "predictions = trainer.predict(test_set_1)\n",
    "preds = np.argmax(predictions.predictions, axis=-1)\n",
    "labels_t = {\"0\":0, \"1\":0}\n",
    "labels_p = {\"0\":0, \"1\":0}\n",
    "for i in range(len(predictions.predictions)):\n",
    "    #print(predictions.label_ids[i], preds[i], predictions.predictions[i]) # Debug overfitting\n",
    "    labels_t[str(predictions.label_ids[i])] += 1\n",
    "    labels_p[str(preds[i])] += 1\n",
    "print(f\"True labels {labels_t}\")\n",
    "print(f\"Predicted labels {labels_p}\")\n",
    "loss_his = {\"tr_loss\":[], \"val_loss\":[]}\n",
    "for e in trainer.state.log_history:\n",
    "    if \"loss\" in e:\n",
    "        loss_his[\"tr_loss\"].append(e[\"loss\"])\n",
    "    elif \"eval_loss\" in e:\n",
    "        loss_his[\"val_loss\"].append(e[\"eval_loss\"])\n",
    "metric = evaluate.combine([\"accuracy\", \"f1\", \"precision\", \"recall\", \"BucketHeadP65/confusion_matrix\"])\n",
    "metric.compute(predictions=preds, references=predictions.label_ids)"
   ]
  },
  {
   "cell_type": "code",
   "execution_count": 13,
   "metadata": {},
   "outputs": [
    {
     "data": {
      "image/png": "[encoded data removed]",
      "text/plain": [
       "<Figure size 640x480 with 1 Axes>"
      ]
     },
     "metadata": {},
     "output_type": "display_data"
    },
    {
     "data": {
      "image/png": "[encoded data removed]",
      "text/plain": [
       "<Figure size 640x480 with 1 Axes>"
      ]
     },
     "metadata": {},
     "output_type": "display_data"
    }
   ],
   "source": [
    "plt.plot(loss_his[\"tr_loss\"], label=\"tr_loss\")\n",
    "plt.ylabel('loss')\n",
    "plt.xlabel('epoch')\n",
    "plt.ylim([0,2])\n",
    "plt.show()\n",
    "\n",
    "plt.plot(loss_his[\"val_loss\"], label=\"tr_loss\")\n",
    "plt.ylabel('loss')\n",
    "plt.xlabel('epoch')\n",
    "plt.ylim([0,2])\n",
    "plt.show()"
   ]
  },
  {
   "cell_type": "code",
   "execution_count": 14,
   "metadata": {},
   "outputs": [
    {
     "data": {
      "application/vnd.jupyter.widget-view+json": {
       "model_id": "ef0cb9e432e1462687aa30b12c1503da",
       "version_major": 2,
       "version_minor": 0
      },
      "text/plain": [
       "  0%|          | 0/219 [00:00<?, ?it/s]"
      ]
     },
     "metadata": {},
     "output_type": "display_data"
    },
    {
     "name": "stdout",
     "output_type": "stream",
     "text": [
      "True labels {'0': 2549, '1': 4456}\n",
      "Predicted labels {'0': 3913, '1': 3092}\n"
     ]
    },
    {
     "data": {
      "text/plain": [
       "{'accuracy': 0.6088508208422555,\n",
       " 'f1': 0.6369899311075782,\n",
       " 'precision': 0.777490297542044,\n",
       " 'recall': 0.5394973070017953,\n",
       " 'confusion_matrix': array([[1861,  688],\n",
       "        [2052, 2404]], dtype=int64)}"
      ]
     },
     "execution_count": 14,
     "metadata": {},
     "output_type": "execute_result"
    }
   ],
   "source": [
    "predictions = trainer.predict(test_set_2)\n",
    "preds = np.argmax(predictions.predictions, axis=-1)\n",
    "labels_t = {\"0\":0, \"1\":0}\n",
    "labels_p = {\"0\":0, \"1\":0}\n",
    "for i in range(len(predictions.predictions)):\n",
    "    #print(predictions.label_ids[i], preds[i], predictions.predictions[i]) # Debug overfitting\n",
    "    labels_t[str(predictions.label_ids[i])] += 1\n",
    "    labels_p[str(preds[i])] += 1\n",
    "print(f\"True labels {labels_t}\")\n",
    "print(f\"Predicted labels {labels_p}\")\n",
    "\n",
    "loss_his = {\"tr_loss\":[], \"val_loss\":[]}\n",
    "for e in trainer.state.log_history:\n",
    "    if \"loss\" in e:\n",
    "        loss_his[\"tr_loss\"].append(e[\"loss\"])\n",
    "    elif \"eval_loss\" in e:\n",
    "        loss_his[\"val_loss\"].append(e[\"eval_loss\"])\n",
    "\n",
    "metric = evaluate.combine([\"accuracy\", \"f1\", \"precision\", \"recall\", \"BucketHeadP65/confusion_matrix\"])\n",
    "metric.compute(predictions=preds, references=predictions.label_ids)"
   ]
  },
  {
   "cell_type": "code",
   "execution_count": 15,
   "metadata": {},
   "outputs": [
    {
     "data": {
      "image/png": "[encoded data removed]",
      "text/plain": [
       "<Figure size 640x480 with 1 Axes>"
      ]
     },
     "metadata": {},
     "output_type": "display_data"
    },
    {
     "data": {
      "image/png": "[encoded data removed]",
      "text/plain": [
       "<Figure size 640x480 with 1 Axes>"
      ]
     },
     "metadata": {},
     "output_type": "display_data"
    }
   ],
   "source": [
    "plt.plot(loss_his[\"tr_loss\"], label=\"tr_loss\")\n",
    "plt.ylabel('loss')\n",
    "plt.xlabel('epoch')\n",
    "plt.ylim([0,2])\n",
    "plt.show()\n",
    "\n",
    "plt.plot(loss_his[\"val_loss\"], label=\"tr_loss\")\n",
    "plt.ylabel('loss')\n",
    "plt.xlabel('epoch')\n",
    "plt.ylim([0,2])\n",
    "plt.show()"
   ]
  }
 ],
 "metadata": {
  "kernelspec": {
   "display_name": "Python 3",
   "language": "python",
   "name": "python3"
  },
  "language_info": {
   "codemirror_mode": {
    "name": "ipython",
    "version": 3
   },
   "file_extension": ".py",
   "mimetype": "text/x-python",
   "name": "python",
   "nbconvert_exporter": "python",
   "pygments_lexer": "ipython3",
   "version": "3.11.9"
  }
 },
 "nbformat": 4,
 "nbformat_minor": 2
}
