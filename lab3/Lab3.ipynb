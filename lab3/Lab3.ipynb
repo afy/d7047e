{
 "cells": [
  {
   "cell_type": "code",
   "execution_count": 2,
   "metadata": {},
   "outputs": [],
   "source": [
    "import torch\n",
    "import torchvision\n",
    "import torchvision.models as models\n",
    "import torchvision.transforms as transforms\n",
    "from torch.utils.data import DataLoader\n",
    "from torch.utils.data import Dataset\n",
    "from PIL import Image\n",
    "import os"
   ]
  },
  {
   "cell_type": "code",
   "execution_count": 17,
   "metadata": {},
   "outputs": [
    {
     "name": "stdout",
     "output_type": "stream",
     "text": [
      "38009\n",
      "Batch Images shape torch.Size([32, 3, 224, 224])\n",
      "Batch captions shape: 32\n"
     ]
    }
   ],
   "source": [
    "\n",
    "class Flickr8kDataset(Dataset):\n",
    "    def __init__(self, image_dir, captions_file, transform=None):\n",
    "        self.image_dir = image_dir\n",
    "        self.captions_file = captions_file\n",
    "        self.transform = transform\n",
    "        self.annotations = self.load_annotations()\n",
    "\n",
    "    def __len__(self):\n",
    "        return len(self.annotations)\n",
    "\n",
    "    def __getitem__(self, idx):\n",
    "        img_name = os.path.join(self.image_dir, self.annotations[idx][0])\n",
    "        image = Image.open(img_name).convert(\"RGB\")\n",
    "        if self.transform:\n",
    "            image = self.transform(image)\n",
    "        caption = self.annotations[idx][1]\n",
    "        return image, caption\n",
    "\n",
    "    def load_annotations(self):\n",
    "        annotations = []\n",
    "        with open(self.captions_file, \"r\") as f:\n",
    "            for line in f:\n",
    "                parts = line.strip().split(\",\")\n",
    "                if len(parts) == 2:\n",
    "                    image_name, caption = parts\n",
    "                    annotations.append((image_name, caption))\n",
    "        return annotations\n",
    "\n",
    "\n",
    "image_dir = r\"archive\\Images\\\\\"\n",
    "captions_file = r\"archive\\captions.txt\"\n",
    "\n",
    "transform = transforms.Compose([\n",
    "    transforms.Resize((224, 224)),\n",
    "    transforms.ToTensor(),\n",
    "])\n",
    "\n",
    "\n",
    "flickr8k_dataset = Flickr8kDataset(image_dir=image_dir, captions_file=captions_file, transform=transform)\n",
    "\n",
    "print(len(flickr8k_dataset))\n",
    "\n",
    "\n",
    "flickr8k_loader = DataLoader(flickr8k_dataset, batch_size=32, shuffle=True)\n",
    "\n",
    "for images, captions in flickr8k_loader:\n",
    "    print(\"Batch Images shape\", images.shape)\n",
    "    print(\"Batch captions shape:\", len(captions))\n",
    "    break  "
   ]
  }
 ],
 "metadata": {
  "kernelspec": {
   "display_name": "base",
   "language": "python",
   "name": "python3"
  },
  "language_info": {
   "codemirror_mode": {
    "name": "ipython",
    "version": 3
   },
   "file_extension": ".py",
   "mimetype": "text/x-python",
   "name": "python",
   "nbconvert_exporter": "python",
   "pygments_lexer": "ipython3",
   "version": "3.11.9"
  }
 },
 "nbformat": 4,
 "nbformat_minor": 2
}
