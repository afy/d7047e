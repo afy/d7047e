{
 "cells": [
  {
   "cell_type": "code",
   "execution_count": 33,
   "id": "initial_id",
   "metadata": {
    "ExecuteTime": {
     "end_time": "2024-04-12T16:27:29.212839Z",
     "start_time": "2024-04-12T16:27:29.207466Z"
    },
    "collapsed": true
   },
   "outputs": [
    {
     "data": {
      "text/plain": [
       "<torch._C.Generator at 0x1c5c278f4b0>"
      ]
     },
     "execution_count": 33,
     "metadata": {},
     "output_type": "execute_result"
    }
   ],
   "source": [
    "import torch\n",
    "import torch.nn as nn\n",
    "import torch.nn.functional as F\n",
    "import torch.optim as optim\n",
    "from torch.utils.data import DataLoader, random_split\n",
    "from torch.utils.data import TensorDataset\n",
    "from torchvision import datasets, transforms\n",
    "from torch.utils.data import Dataset\n",
    "from torch.utils.tensorboard import SummaryWriter\n",
    "import torchvision\n",
    "import tensorflow as tf\n",
    "from torch.utils.data import DataLoader, SubsetRandomSampler\n",
    "\n",
    "\n",
    "import matplotlib.pyplot as plt\n",
    "import numpy as np\n",
    "import copy\n",
    "\n",
    "from transformers import enable_full_determinism\n",
    "\n",
    "device = torch.device(\"cuda:0\" if torch.cuda.is_available()\n",
    "                      else \"cpu\")\n",
    "torch.manual_seed(1)\n"
   ]
  },
  {
   "cell_type": "code",
   "execution_count": 30,
   "id": "d341f08be3d971e8",
   "metadata": {
    "ExecuteTime": {
     "end_time": "2024-04-12T16:24:01.205220Z",
     "start_time": "2024-04-12T16:24:01.174577Z"
    },
    "collapsed": false
   },
   "outputs": [
    {
     "name": "stdout",
     "output_type": "stream",
     "text": [
      "4800 1200 1000\n"
     ]
    }
   ],
   "source": [
    "training_Size=0.1\n",
    "temp_set = torchvision.datasets.MNIST('/files/', train=True, download=True)\n",
    "test_set = torchvision.datasets.MNIST('/files/', train=False, download=True)\n",
    "batch_size = 1\n",
    "\n",
    "subsample_train_indices = torch.randperm(len(temp_set))[:int(len(temp_set)*training_Size)]\n",
    "temp_set = DataLoader(test_set, sampler=SubsetRandomSampler(subsample_train_indices))\n",
    "\n",
    "\n",
    "subsample_train_indices = torch.randperm(len(test_set))[:int(len(test_set)*training_Size)]\n",
    "test_set = DataLoader(test_set, sampler=SubsetRandomSampler(subsample_train_indices))\n",
    "\n",
    "\n",
    "\n",
    "train_dataset, val_dataset = random_split(temp_set, [0.8, 0.2])\n",
    "\n",
    "print(len(train_dataset), len(val_dataset), len(test_set))\n",
    "\n",
    "\n",
    "\n"
   ]
  },
  {
   "cell_type": "code",
   "id": "cfbd849a437cf72",
   "metadata": {
    "collapsed": false
   },
   "outputs": [],
   "source": [
    "class Generator(nn.Module):\n",
    "    def __init__(self)\n",
    "        self.relu=relu()\n",
    "        self.\n",
    "    def forward(self, x):\n",
    "        x= self.relu(x)"
   ]
  }
 ],
 "metadata": {
  "kernelspec": {
   "display_name": "Python 3",
   "language": "python",
   "name": "python3"
  },
  "language_info": {
   "codemirror_mode": {
    "name": "ipython",
    "version": 2
   },
   "file_extension": ".py",
   "mimetype": "text/x-python",
   "name": "python",
   "nbconvert_exporter": "python",
   "pygments_lexer": "ipython2",
   "version": "2.7.6"
  }
 },
 "nbformat": 4,
 "nbformat_minor": 5
}
