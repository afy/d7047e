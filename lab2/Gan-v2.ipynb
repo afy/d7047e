{
 "cells": [
  {
   "cell_type": "code",
   "execution_count": 1,
   "id": "initial_id",
   "metadata": {
    "ExecuteTime": {
     "end_time": "2024-04-29T14:44:03.293823Z",
     "start_time": "2024-04-29T14:44:03.287395Z"
    },
    "collapsed": true
   },
   "outputs": [
    {
     "data": {
      "text/plain": [
       "<torch._C.Generator at 0x1b91829d4d0>"
      ]
     },
     "execution_count": 1,
     "metadata": {},
     "output_type": "execute_result"
    }
   ],
   "source": [
    "import torch\n",
    "import torch.nn as nn\n",
    "import torch.optim as optim\n",
    "from torch.utils.data import Dataset, DataLoader, random_split\n",
    "from torchvision import transforms\n",
    "\n",
    "import torchvision\n",
    "from torch.utils.data import DataLoader\n",
    "from torch.autograd.variable import Variable\n",
    "\n",
    "device = torch.device(\"cuda:0\" if torch.cuda.is_available()\n",
    "                      else \"cpu\")\n",
    "torch.manual_seed(1)\n"
   ]
  },
  {
   "cell_type": "code",
   "execution_count": 11,
   "id": "d341f08be3d971e8",
   "metadata": {
    "ExecuteTime": {
     "end_time": "2024-04-29T14:44:06.508157Z",
     "start_time": "2024-04-29T14:44:06.479572Z"
    },
    "collapsed": false
   },
   "outputs": [],
   "source": [
    "DATASET_SCALE = 0.1 # 10% of initial dataset for train, val and test\n",
    "DATASET_SPLIT = [0.8, 0.2]\n",
    "\n",
    "# Note to self: moved from /files/ to ./data for lab consistency (see lab 0)\n",
    "\n",
    "\n",
    "    \n",
    "temp_set = torchvision.datasets.MNIST('./data', train=True, download=True, transform=transform)\n",
    "test_dataset = torchvision.datasets.MNIST('./data', train=False, download=True, transform=transform)\n",
    "\n",
    "percentage_split = 0.8\n",
    "def loader(trainlenth, batch_size):\n",
    "    train_dataset, val_dataset, _ = torch.utils.data.random_split(temp_set, [int(trainlenth*percentage_split), int(trainlenth-(trainlenth*(percentage_split))), len(temp_set)-trainlenth])\n",
    "    \n",
    "\n",
    "    \n",
    "    train_loader = DataLoader(train_dataset, batch_size=batch_size, shuffle=True)\n",
    "    val_loader = DataLoader(val_dataset, batch_size=batch_size, shuffle=False)\n",
    "    test_loader = DataLoader(test_dataset, batch_size=batch_size, shuffle=False)\n",
    "    return train_loader, val_loader, test_loader\n",
    "#train_dataset, val_dataset = random_split(temp_set, DATASET_SPLIT)\n",
    "\n",
    "\n",
    "\n"
   ]
  },
  {
   "cell_type": "code",
   "execution_count": 26,
   "id": "6f58a0b6",
   "metadata": {},
   "outputs": [],
   "source": [
    "transform = transforms.Compose([\n",
    "    transforms.ToTensor(),\n",
    "])\n",
    "\n",
    "train_set = torchvision.datasets.MNIST('./data', train=True, download=True, transform=transform)\n",
    "test_set = torchvision.datasets.MNIST('./data', train=False, download=True, transform=transform)"
   ]
  },
  {
   "cell_type": "code",
   "execution_count": 3,
   "id": "cc2fb8cb",
   "metadata": {},
   "outputs": [],
   "source": [
    "# From paper\n",
    "def Std_loss_func(D_real, D_fake, discriminator = True):\n",
    "     if (discriminator):\n",
    "          return -torch.mean(torch.log(D_real) + torch.log(1 - D_fake))\n",
    "     return -torch.mean(torch.log(D_fake))\n",
    "\n",
    "# task 2\n",
    "def Logis_loss():\n",
    "     pass\n",
    "\n",
    "# Random sample\n",
    "def sample_Z(m, n=1):\n",
    "    return torch.randn(m, n)\n",
    "\n",
    "# Re-implement \n",
    "def xavier_init(size):\n",
    "    in_dim = size[0]\n",
    "    xavier_stddev = 1. / (in_dim / 2.)**0.5  # Using standard Python sqrt calculation\n",
    "    return torch.randn(*size) * xavier_stddev"
   ]
  },
  {
   "cell_type": "code",
   "execution_count": 4,
   "id": "267748fb",
   "metadata": {},
   "outputs": [],
   "source": [
    "class Discriminator(nn.Module):\n",
    "    def __init__(self):\n",
    "        super(Discriminator, self).__init__()\n",
    "        self.W1 = nn.Parameter(xavier_init([784, 128]))\n",
    "        self.b1 = nn.Parameter(torch.zeros(128))\n",
    "        self.W2 = nn.Parameter(xavier_init([128, 1]))\n",
    "        self.b2 = nn.Parameter(torch.zeros(1))\n",
    "\n",
    "    def forward(self, x):\n",
    "        x = torch.relu(x @ self.W1 + self.b1)\n",
    "        logits = x @ self.W2 + self.b2\n",
    "        prob = torch.sigmoid(logits)\n",
    "        return prob, logits\n",
    "\n",
    "\n",
    "class Generator(nn.Module):\n",
    "    def __init__(self):\n",
    "        super(Generator, self).__init__()\n",
    "        self.W1 = nn.Parameter(xavier_init([100, 128]))\n",
    "        self.b1 = nn.Parameter(torch.zeros(128))\n",
    "        self.W2 = nn.Parameter(xavier_init([128, 784]))\n",
    "        self.b2 = nn.Parameter(torch.zeros(784))\n",
    "\n",
    "    def forward(self, z):\n",
    "        z = torch.relu(z @ self.W1 + self.b1)\n",
    "        log_prob = z @ self.W2 + self.b2\n",
    "        prob = torch.sigmoid(log_prob)\n",
    "        return prob"
   ]
  },
  {
   "cell_type": "code",
   "execution_count": 32,
   "id": "6bd5118d",
   "metadata": {},
   "outputs": [
    {
     "name": "stdout",
     "output_type": "stream",
     "text": [
      "2\n"
     ]
    },
    {
     "ename": "RuntimeError",
     "evalue": "mat1 and mat2 shapes cannot be multiplied (5x1 and 100x128)",
     "output_type": "error",
     "traceback": [
      "\u001b[1;31m---------------------------------------------------------------------------\u001b[0m",
      "\u001b[1;31mRuntimeError\u001b[0m                              Traceback (most recent call last)",
      "Cell \u001b[1;32mIn[32], line 49\u001b[0m\n\u001b[0;32m     45\u001b[0m     \u001b[38;5;28;01mreturn\u001b[39;00m discriminator, generator\n\u001b[0;32m     48\u001b[0m \u001b[38;5;66;03m# testing\u001b[39;00m\n\u001b[1;32m---> 49\u001b[0m D, G \u001b[38;5;241m=\u001b[39m \u001b[43mtrain\u001b[49m\u001b[43m(\u001b[49m\u001b[43m)\u001b[49m\n",
      "Cell \u001b[1;32mIn[32], line 26\u001b[0m, in \u001b[0;36mtrain\u001b[1;34m(loss_criterion)\u001b[0m\n\u001b[0;32m     24\u001b[0m D_optimizer\u001b[38;5;241m.\u001b[39mzero_grad()\n\u001b[0;32m     25\u001b[0m D_real, D_logit_real \u001b[38;5;241m=\u001b[39m discriminator(X_mb_img)\n\u001b[1;32m---> 26\u001b[0m D_fake, D_logit_fake \u001b[38;5;241m=\u001b[39m discriminator(\u001b[43mgenerator\u001b[49m\u001b[43m(\u001b[49m\u001b[43mZ\u001b[49m\u001b[43m)\u001b[49m) \n\u001b[0;32m     28\u001b[0m D_loss_real \u001b[38;5;241m=\u001b[39m loss_criterion(D_logit_real, torch\u001b[38;5;241m.\u001b[39mones_like(D_real))\n\u001b[0;32m     29\u001b[0m D_loss_fake \u001b[38;5;241m=\u001b[39m loss_criterion(D_logit_fake, torch\u001b[38;5;241m.\u001b[39mzeros_like(D_fake))\n",
      "File \u001b[1;32m~\\AppData\\Local\\Packages\\PythonSoftwareFoundation.Python.3.11_qbz5n2kfra8p0\\LocalCache\\local-packages\\Python311\\site-packages\\torch\\nn\\modules\\module.py:1511\u001b[0m, in \u001b[0;36mModule._wrapped_call_impl\u001b[1;34m(self, *args, **kwargs)\u001b[0m\n\u001b[0;32m   1509\u001b[0m     \u001b[38;5;28;01mreturn\u001b[39;00m \u001b[38;5;28mself\u001b[39m\u001b[38;5;241m.\u001b[39m_compiled_call_impl(\u001b[38;5;241m*\u001b[39margs, \u001b[38;5;241m*\u001b[39m\u001b[38;5;241m*\u001b[39mkwargs)  \u001b[38;5;66;03m# type: ignore[misc]\u001b[39;00m\n\u001b[0;32m   1510\u001b[0m \u001b[38;5;28;01melse\u001b[39;00m:\n\u001b[1;32m-> 1511\u001b[0m     \u001b[38;5;28;01mreturn\u001b[39;00m \u001b[38;5;28;43mself\u001b[39;49m\u001b[38;5;241;43m.\u001b[39;49m\u001b[43m_call_impl\u001b[49m\u001b[43m(\u001b[49m\u001b[38;5;241;43m*\u001b[39;49m\u001b[43margs\u001b[49m\u001b[43m,\u001b[49m\u001b[43m \u001b[49m\u001b[38;5;241;43m*\u001b[39;49m\u001b[38;5;241;43m*\u001b[39;49m\u001b[43mkwargs\u001b[49m\u001b[43m)\u001b[49m\n",
      "File \u001b[1;32m~\\AppData\\Local\\Packages\\PythonSoftwareFoundation.Python.3.11_qbz5n2kfra8p0\\LocalCache\\local-packages\\Python311\\site-packages\\torch\\nn\\modules\\module.py:1520\u001b[0m, in \u001b[0;36mModule._call_impl\u001b[1;34m(self, *args, **kwargs)\u001b[0m\n\u001b[0;32m   1515\u001b[0m \u001b[38;5;66;03m# If we don't have any hooks, we want to skip the rest of the logic in\u001b[39;00m\n\u001b[0;32m   1516\u001b[0m \u001b[38;5;66;03m# this function, and just call forward.\u001b[39;00m\n\u001b[0;32m   1517\u001b[0m \u001b[38;5;28;01mif\u001b[39;00m \u001b[38;5;129;01mnot\u001b[39;00m (\u001b[38;5;28mself\u001b[39m\u001b[38;5;241m.\u001b[39m_backward_hooks \u001b[38;5;129;01mor\u001b[39;00m \u001b[38;5;28mself\u001b[39m\u001b[38;5;241m.\u001b[39m_backward_pre_hooks \u001b[38;5;129;01mor\u001b[39;00m \u001b[38;5;28mself\u001b[39m\u001b[38;5;241m.\u001b[39m_forward_hooks \u001b[38;5;129;01mor\u001b[39;00m \u001b[38;5;28mself\u001b[39m\u001b[38;5;241m.\u001b[39m_forward_pre_hooks\n\u001b[0;32m   1518\u001b[0m         \u001b[38;5;129;01mor\u001b[39;00m _global_backward_pre_hooks \u001b[38;5;129;01mor\u001b[39;00m _global_backward_hooks\n\u001b[0;32m   1519\u001b[0m         \u001b[38;5;129;01mor\u001b[39;00m _global_forward_hooks \u001b[38;5;129;01mor\u001b[39;00m _global_forward_pre_hooks):\n\u001b[1;32m-> 1520\u001b[0m     \u001b[38;5;28;01mreturn\u001b[39;00m \u001b[43mforward_call\u001b[49m\u001b[43m(\u001b[49m\u001b[38;5;241;43m*\u001b[39;49m\u001b[43margs\u001b[49m\u001b[43m,\u001b[49m\u001b[43m \u001b[49m\u001b[38;5;241;43m*\u001b[39;49m\u001b[38;5;241;43m*\u001b[39;49m\u001b[43mkwargs\u001b[49m\u001b[43m)\u001b[49m\n\u001b[0;32m   1522\u001b[0m \u001b[38;5;28;01mtry\u001b[39;00m:\n\u001b[0;32m   1523\u001b[0m     result \u001b[38;5;241m=\u001b[39m \u001b[38;5;28;01mNone\u001b[39;00m\n",
      "Cell \u001b[1;32mIn[4], line 25\u001b[0m, in \u001b[0;36mGenerator.forward\u001b[1;34m(self, z)\u001b[0m\n\u001b[0;32m     24\u001b[0m \u001b[38;5;28;01mdef\u001b[39;00m \u001b[38;5;21mforward\u001b[39m(\u001b[38;5;28mself\u001b[39m, z):\n\u001b[1;32m---> 25\u001b[0m     z \u001b[38;5;241m=\u001b[39m torch\u001b[38;5;241m.\u001b[39mrelu(\u001b[43mz\u001b[49m\u001b[43m \u001b[49m\u001b[38;5;241;43m@\u001b[39;49m\u001b[43m \u001b[49m\u001b[38;5;28;43mself\u001b[39;49m\u001b[38;5;241;43m.\u001b[39;49m\u001b[43mW1\u001b[49m \u001b[38;5;241m+\u001b[39m \u001b[38;5;28mself\u001b[39m\u001b[38;5;241m.\u001b[39mb1)\n\u001b[0;32m     26\u001b[0m     log_prob \u001b[38;5;241m=\u001b[39m z \u001b[38;5;241m@\u001b[39m \u001b[38;5;28mself\u001b[39m\u001b[38;5;241m.\u001b[39mW2 \u001b[38;5;241m+\u001b[39m \u001b[38;5;28mself\u001b[39m\u001b[38;5;241m.\u001b[39mb2\n\u001b[0;32m     27\u001b[0m     prob \u001b[38;5;241m=\u001b[39m torch\u001b[38;5;241m.\u001b[39msigmoid(log_prob)\n",
      "\u001b[1;31mRuntimeError\u001b[0m: mat1 and mat2 shapes cannot be multiplied (5x1 and 100x128)"
     ]
    }
   ],
   "source": [
    "m = 5\n",
    "k = 1\n",
    "\n",
    "def train(loss_criterion=Std_loss_func):\n",
    "    generator = Generator()\n",
    "    discriminator = Discriminator()\n",
    "    D_optimizer = torch.optim.Adam(params=discriminator.parameters(), lr=0.001)\n",
    "    G_optimizer = torch.optim.Adam(params=generator.parameters(), lr=0.001)\n",
    "    \n",
    "    train_loader = DataLoader(train_set, batch_size=1, shuffle=True)\n",
    "\n",
    "    for it in range(20_000):\n",
    "\n",
    "        # Assuming train_loader is a DataLoader object for the MNIST dataset.\n",
    "        print(len(next(iter(train_loader))))\n",
    "        \n",
    "        # Update discriminator (k times)\n",
    "        for jt in range(k):\n",
    "            for mi in range(m):\n",
    "                (X_mb_img, x_mb_label)  = next(iter(train_loader))\n",
    "                X_mb_img = X_mb_img.view(X_mb_img.size(0), -1)  # Flatten the image tensor if needed\n",
    "                Z = sample_Z(m)  # Sample noise\n",
    "\n",
    "                D_optimizer.zero_grad()\n",
    "                D_real, D_logit_real = discriminator(X_mb_img)\n",
    "                D_fake, D_logit_fake = discriminator(generator(Z)) \n",
    "\n",
    "                D_loss_real = loss_criterion(D_logit_real, torch.ones_like(D_real))\n",
    "                D_loss_fake = loss_criterion(D_logit_fake, torch.zeros_like(D_fake))\n",
    "                D_loss = (D_loss_real + D_loss_fake) / 2\n",
    "                D_loss.backward()\n",
    "                D_optimizer.step()\n",
    "\n",
    "        # Update generator\n",
    "        Z = sample_Z(m)  # Sample noise\n",
    "        G_optimizer.zero_grad()\n",
    "        G_fake, G_logit_fake = discriminator(generator(Z))\n",
    "        G_loss = loss_criterion(G_logit_fake, torch.ones_like(G_fake), discriminator=False)\n",
    "        G_loss.backward()\n",
    "        G_optimizer.step()\n",
    "\n",
    "        if it % 10 == 0:\n",
    "                print(f\"Iteration {it}: D_loss {D_loss.item()}, G_loss {G_loss.item()}\")\n",
    "\n",
    "    return discriminator, generator\n",
    "\n",
    "\n",
    "# testing\n",
    "D, G = train()"
   ]
  },
  {
   "cell_type": "code",
   "execution_count": 16,
   "id": "97389b7897e9e2e9",
   "metadata": {
    "ExecuteTime": {
     "end_time": "2024-04-29T15:22:57.113005Z",
     "start_time": "2024-04-29T15:22:51.910582Z"
    },
    "collapsed": false
   },
   "outputs": [
    {
     "ename": "AttributeError",
     "evalue": "'list' object has no attribute 'shape'",
     "output_type": "error",
     "traceback": [
      "\u001b[1;31m---------------------------------------------------------------------------\u001b[0m",
      "\u001b[1;31mAttributeError\u001b[0m                            Traceback (most recent call last)",
      "Cell \u001b[1;32mIn[16], line 2\u001b[0m\n\u001b[0;32m      1\u001b[0m \u001b[38;5;66;03m# Train with std loss\u001b[39;00m\n\u001b[1;32m----> 2\u001b[0m D, G \u001b[38;5;241m=\u001b[39m \u001b[43mtrain\u001b[49m\u001b[43m(\u001b[49m\u001b[43m)\u001b[49m\n",
      "Cell \u001b[1;32mIn[15], line 15\u001b[0m, in \u001b[0;36mtrain\u001b[1;34m(loss_criterion)\u001b[0m\n\u001b[0;32m     10\u001b[0m train_loader \u001b[38;5;241m=\u001b[39m DataLoader(train_set, shuffle\u001b[38;5;241m=\u001b[39m\u001b[38;5;28;01mTrue\u001b[39;00m, batch_size\u001b[38;5;241m=\u001b[39mm)\n\u001b[0;32m     12\u001b[0m \u001b[38;5;28;01mfor\u001b[39;00m it \u001b[38;5;129;01min\u001b[39;00m \u001b[38;5;28mrange\u001b[39m(\u001b[38;5;241m20_000\u001b[39m):\n\u001b[0;32m     13\u001b[0m \n\u001b[0;32m     14\u001b[0m     \u001b[38;5;66;03m# Assuming train_loader is a DataLoader object for the MNIST dataset.\u001b[39;00m\n\u001b[1;32m---> 15\u001b[0m     \u001b[38;5;28mprint\u001b[39m(\u001b[38;5;28;43mnext\u001b[39;49m\u001b[43m(\u001b[49m\u001b[38;5;28;43miter\u001b[39;49m\u001b[43m(\u001b[49m\u001b[43mtrain_loader\u001b[49m\u001b[43m)\u001b[49m\u001b[43m)\u001b[49m\u001b[38;5;241;43m.\u001b[39;49m\u001b[43mshape\u001b[49m)\n\u001b[0;32m     16\u001b[0m     X_mb,  \u001b[38;5;241m=\u001b[39m \u001b[38;5;28mnext\u001b[39m(\u001b[38;5;28miter\u001b[39m(train_loader))\n\u001b[0;32m     17\u001b[0m     X_mb \u001b[38;5;241m=\u001b[39m X_mb\u001b[38;5;241m.\u001b[39mview(X_mb\u001b[38;5;241m.\u001b[39msize(\u001b[38;5;241m0\u001b[39m), \u001b[38;5;241m-\u001b[39m\u001b[38;5;241m1\u001b[39m)  \u001b[38;5;66;03m# Flatten the image tensor if needed\u001b[39;00m\n",
      "\u001b[1;31mAttributeError\u001b[0m: 'list' object has no attribute 'shape'"
     ]
    }
   ],
   "source": [
    "# Train with std loss\n"
   ]
  },
  {
   "cell_type": "code",
   "execution_count": null,
   "id": "0974c4ca",
   "metadata": {},
   "outputs": [],
   "source": [
    "# Train with logistic loss\n",
    "D, G = train(Logis_loss)"
   ]
  }
 ],
 "metadata": {
  "kernelspec": {
   "display_name": "Python 3",
   "language": "python",
   "name": "python3"
  },
  "language_info": {
   "codemirror_mode": {
    "name": "ipython",
    "version": 3
   },
   "file_extension": ".py",
   "mimetype": "text/x-python",
   "name": "python",
   "nbconvert_exporter": "python",
   "pygments_lexer": "ipython3",
   "version": "3.11.9"
  }
 },
 "nbformat": 4,
 "nbformat_minor": 5
}
