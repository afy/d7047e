{
 "cells": [
  {
   "cell_type": "markdown",
   "metadata": {},
   "source": [
    "# XLNet version 1\n",
    "\n",
    "Hate speech identification project, D7047E <br>\n",
    "Binary text classification task using pretrained XLNet models"
   ]
  },
  {
   "cell_type": "code",
   "execution_count": 11,
   "metadata": {},
   "outputs": [
    {
     "name": "stdout",
     "output_type": "stream",
     "text": [
      "using cuda\n"
     ]
    }
   ],
   "source": [
    "\"\"\" \n",
    "%pip install numpy\n",
    "%pip install torch\n",
    "%pip install torchvision\n",
    "%pip install sentencepiece\n",
    "%pip install transformers\n",
    "%pip install datasets\n",
    "%pip install evaluate\n",
    "%pip install accelerate\n",
    "%pip install imbalanced-learn\n",
    "\"\"\"\n",
    "\n",
    "# PyTorch\n",
    "import torch\n",
    "import torch.nn as nn\n",
    "import torch.nn.functional as F\n",
    "from torch.optim.lr_scheduler import LambdaLR\n",
    "import torchvision\n",
    "\n",
    "# Hugging Face\n",
    "from transformers import XLNetConfig, XLNetTokenizer, XLNetForSequenceClassification\n",
    "from transformers import TrainingArguments, Trainer\n",
    "from datasets import Dataset\n",
    "import datasets\n",
    "import evaluate\n",
    "\n",
    "# Misc\n",
    "from tqdm import tqdm, trange\n",
    "import sentencepiece as spm\n",
    "import pandas as pd\n",
    "import numpy as np\n",
    "import os\n",
    "from matplotlib import pyplot as plt\n",
    "from imblearn.over_sampling import SMOTE\n",
    "\n",
    "device = torch.device(\"cuda\" if torch.cuda.is_available() else \"cpu\")\n",
    "print(f\"using {device}\")\n",
    "\n",
    "if torch.cuda.is_available(): torch.cuda.empty_cache()"
   ]
  },
  {
   "cell_type": "code",
   "execution_count": 12,
   "metadata": {},
   "outputs": [],
   "source": [
    "# Constants and vars\n",
    "\n",
    "# aux files\n",
    "path_tr = r\"..\\\\OLID_Tain.txt\" \n",
    "path_te_a = r\"..\\\\OLID_TEST.txt\" \n",
    "path_spm = r\"data\\\\proj_xlnet\" # +.model / +.vocab\n",
    "path_output = r\"trained\\\\\"\n",
    "\n",
    "# Constants\n",
    "GLOBAL_SEED = 1337\n",
    "TOKENIZER_MAX_LENGTH = 128 #100 works with 1 epoch \n",
    "torch.manual_seed(GLOBAL_SEED)\n",
    "\n",
    "tokenizer_config = {\n",
    "    \"padding\": \"max_length\", \n",
    "    \"truncation\": \"longest_first\",\n",
    "    \"max_length\": TOKENIZER_MAX_LENGTH,\n",
    "    #\"add_special_tokens\": True,\n",
    "    #\"return_tensors\": \"pt\",\n",
    "    #\"return_token_type_ids\": False, \n",
    "    #\"return_attention_mask\": True, \n",
    "    #\"pad_to_max_length\": False\n",
    "}"
   ]
  },
  {
   "cell_type": "code",
   "execution_count": 13,
   "metadata": {},
   "outputs": [],
   "source": [
    "tokenizer = XLNetTokenizer.from_pretrained(\n",
    "    'xlnet-base-cased',\n",
    "    #additional_special_tokens = [\"@USER\"], NOTE THIS LINE RUINS EVERYTHING\n",
    "    # ^ this note was written at 1:30 am on a tuesday\n",
    "    device=device\n",
    ")\n",
    "\n",
    "def tokenize_examples(examples):\n",
    "    return tokenizer(examples[\"text\"], **tokenizer_config)"
   ]
  },
  {
   "cell_type": "code",
   "execution_count": 14,
   "metadata": {},
   "outputs": [
    {
     "name": "stderr",
     "output_type": "stream",
     "text": [
      "100%|██████████| 13240/13240 [00:00<00:00, 2632125.56it/s]\n"
     ]
    },
    {
     "data": {
      "application/vnd.jupyter.widget-view+json": {
       "model_id": "0d56ac989d1e464faf3e41e22bce26b2",
       "version_major": 2,
       "version_minor": 0
      },
      "text/plain": [
       "Map:   0%|          | 0/13240 [00:00<?, ? examples/s]"
      ]
     },
     "metadata": {},
     "output_type": "display_data"
    },
    {
     "name": "stdout",
     "output_type": "stream",
     "text": [
      "Dataset({\n",
      "    features: ['label', 'text', 'input_ids', 'token_type_ids', 'attention_mask'],\n",
      "    num_rows: 13240\n",
      "})\n"
     ]
    }
   ],
   "source": [
    "# Load and split dataset\n",
    "olid_dataset = pd.read_csv(path_tr, sep=\"\\t\", names=[\"id\",\"text\",\"label\",\"other_1\",\"other_2\"])\n",
    "olid_dataset = olid_dataset.drop(axis=0, index=0) # Remove column names\n",
    "olid_dataset = olid_dataset.drop(axis=1, labels=[\"id\", \"other_1\", \"other_2\"]).to_dict()\n",
    "for i in trange(len(olid_dataset[\"label\"])):\n",
    "    olid_dataset[\"label\"][i+1] = 1 if olid_dataset[\"label\"][i+1] == \"OFF\" else 0 \n",
    "\n",
    "olid_dataset = {\n",
    "    \"label\": [y for y in olid_dataset[\"label\"].values()],\n",
    "    \"text\": [x for x in olid_dataset[\"text\"].values()]     \n",
    "}\n",
    "\n",
    "olid_dataset = Dataset.from_dict(olid_dataset)\n",
    "olid_dataset = olid_dataset.map(tokenize_examples, batched=True)\n",
    "print(olid_dataset)"
   ]
  },
  {
   "cell_type": "code",
   "execution_count": 15,
   "metadata": {},
   "outputs": [
    {
     "name": "stdout",
     "output_type": "stream",
     "text": [
      "Dataset({\n",
      "    features: ['label', 'text', 'input_ids', 'token_type_ids', 'attention_mask'],\n",
      "    num_rows: 9268\n",
      "})\n",
      "Dataset({\n",
      "    features: ['label', 'text', 'input_ids', 'token_type_ids', 'attention_mask'],\n",
      "    num_rows: 1324\n",
      "})\n",
      "Dataset({\n",
      "    features: ['label', 'text', 'input_ids', 'token_type_ids', 'attention_mask'],\n",
      "    num_rows: 2648\n",
      "})\n"
     ]
    }
   ],
   "source": [
    "def _get_split(s):\n",
    "    return [int(x * olid_dataset.num_rows) for x in s]\n",
    "    \n",
    "split = _get_split([0.7, 0.1, 0.2])\n",
    "olid_train = olid_dataset.shuffle(seed=GLOBAL_SEED).select(range(split[0]))\n",
    "olid_val = olid_dataset.shuffle(seed=GLOBAL_SEED).select(range(split[1]))\n",
    "olid_test = olid_dataset.shuffle(seed=GLOBAL_SEED).select(range(split[2]))\n",
    "print(olid_train)\n",
    "print(olid_val)\n",
    "print(olid_test)\n"
   ]
  },
  {
   "cell_type": "code",
   "execution_count": 16,
   "metadata": {},
   "outputs": [
    {
     "name": "stdout",
     "output_type": "stream",
     "text": [
      "(12412, 128) (9268, 128)\n"
     ]
    },
    {
     "data": {
      "application/vnd.jupyter.widget-view+json": {
       "model_id": "ab93eb39991d4b54823c25939f84ce2b",
       "version_major": 2,
       "version_minor": 0
      },
      "text/plain": [
       "Map:   0%|          | 0/12412 [00:00<?, ? examples/s]"
      ]
     },
     "metadata": {},
     "output_type": "display_data"
    }
   ],
   "source": [
    "# Prevent overfitting by oversampling class 1\n",
    "sm = SMOTE()\n",
    "\n",
    "X = olid_train[\"input_ids\"]\n",
    "y = olid_train[\"label\"]\n",
    "\n",
    "X = np.array(X)\n",
    "y = np.array(y)\n",
    "\n",
    "X_res, y_res = sm.fit_resample(X, y)\n",
    "print(X_res.shape, X.shape)\n",
    "\n",
    "X_res = [tokenizer.decode(X_res[i], skip_special_tokens=True) for i in range(len(X_res))]\n",
    "\n",
    "olid_train_os = Dataset.from_dict({\"text\": X_res, \"label\":y_res})\n",
    "olid_train_os = olid_train_os.map(tokenize_examples, batched=True)"
   ]
  },
  {
   "cell_type": "code",
   "execution_count": 17,
   "metadata": {},
   "outputs": [],
   "source": [
    "def getTrainLabelDistrib(loader):\n",
    "    labels_dist = {}\n",
    "    for e in loader:\n",
    "        lab = e[\"label\"]\n",
    "        if lab in labels_dist:\n",
    "            labels_dist[lab] += 1\n",
    "        else:\n",
    "            labels_dist[lab] = 0\n",
    "    print(labels_dist)"
   ]
  },
  {
   "cell_type": "code",
   "execution_count": 18,
   "metadata": {},
   "outputs": [
    {
     "name": "stdout",
     "output_type": "stream",
     "text": [
      "{0: 6205, 1: 6205}\n"
     ]
    }
   ],
   "source": [
    "#getTrainLabelDistrib(olid_test)\n",
    "#getTrainLabelDistrib(olid_train)\n",
    "#getTrainLabelDistrib(olid_val)\n",
    "getTrainLabelDistrib(olid_train_os)"
   ]
  },
  {
   "cell_type": "code",
   "execution_count": 19,
   "metadata": {},
   "outputs": [
    {
     "name": "stderr",
     "output_type": "stream",
     "text": [
      "Some weights of XLNetForSequenceClassification were not initialized from the model checkpoint at xlnet-base-cased and are newly initialized: ['logits_proj.bias', 'logits_proj.weight', 'sequence_summary.summary.bias', 'sequence_summary.summary.weight']\n",
      "You should probably TRAIN this model on a down-stream task to be able to use it for predictions and inference.\n"
     ]
    },
    {
     "name": "stdout",
     "output_type": "stream",
     "text": [
      "XLNetConfig {\n",
      "  \"_name_or_path\": \"xlnet-base-cased\",\n",
      "  \"architectures\": [\n",
      "    \"XLNetLMHeadModel\"\n",
      "  ],\n",
      "  \"attn_type\": \"bi\",\n",
      "  \"bi_data\": false,\n",
      "  \"bos_token_id\": 1,\n",
      "  \"clamp_len\": -1,\n",
      "  \"d_head\": 64,\n",
      "  \"d_inner\": 3072,\n",
      "  \"d_model\": 768,\n",
      "  \"dropout\": 0.1,\n",
      "  \"end_n_top\": 5,\n",
      "  \"eos_token_id\": 2,\n",
      "  \"ff_activation\": \"gelu\",\n",
      "  \"initializer_range\": 0.02,\n",
      "  \"layer_norm_eps\": 1e-12,\n",
      "  \"mem_len\": null,\n",
      "  \"model_type\": \"xlnet\",\n",
      "  \"n_head\": 12,\n",
      "  \"n_layer\": 12,\n",
      "  \"pad_token_id\": 5,\n",
      "  \"reuse_len\": null,\n",
      "  \"same_length\": false,\n",
      "  \"start_n_top\": 5,\n",
      "  \"summary_activation\": \"tanh\",\n",
      "  \"summary_last_dropout\": 0.1,\n",
      "  \"summary_type\": \"last\",\n",
      "  \"summary_use_proj\": true,\n",
      "  \"task_specific_params\": {\n",
      "    \"text-generation\": {\n",
      "      \"do_sample\": true,\n",
      "      \"max_length\": 250\n",
      "    }\n",
      "  },\n",
      "  \"transformers_version\": \"4.40.2\",\n",
      "  \"untie_r\": true,\n",
      "  \"use_mems_eval\": true,\n",
      "  \"use_mems_train\": false,\n",
      "  \"vocab_size\": 32000\n",
      "}\n",
      "\n",
      "True\n"
     ]
    }
   ],
   "source": [
    "# Model \n",
    "# docs: https://huggingface.co/docs/transformers/model_doc/xlnet\n",
    "\n",
    "xlnet_model = XLNetForSequenceClassification.from_pretrained(\n",
    "    \"xlnet-base-cased\", \n",
    "    num_labels=2\n",
    ")\n",
    "xlnet_model.to(device)\n",
    "\n",
    "print(xlnet_model.config)\n",
    "print(next(xlnet_model.parameters()).is_cuda)"
   ]
  },
  {
   "cell_type": "code",
   "execution_count": 20,
   "metadata": {},
   "outputs": [
    {
     "data": {
      "application/vnd.jupyter.widget-view+json": {
       "model_id": "888df68f513e40c8b79ea1b2cd8c70b9",
       "version_major": 2,
       "version_minor": 0
      },
      "text/plain": [
       "  0%|          | 0/360 [00:00<?, ?it/s]"
      ]
     },
     "metadata": {},
     "output_type": "display_data"
    },
    {
     "name": "stdout",
     "output_type": "stream",
     "text": [
      "{'loss': 0.6457, 'grad_norm': 5.486652851104736, 'learning_rate': 4.875e-05, 'epoch': 0.25}\n",
      "{'loss': 0.6121, 'grad_norm': 5.577016830444336, 'learning_rate': 4.75e-05, 'epoch': 0.5}\n",
      "{'loss': 0.5402, 'grad_norm': 5.1810126304626465, 'learning_rate': 4.6250000000000006e-05, 'epoch': 0.74}\n",
      "{'loss': 0.4753, 'grad_norm': 5.3945631980896, 'learning_rate': 4.5e-05, 'epoch': 0.99}\n"
     ]
    },
    {
     "data": {
      "application/vnd.jupyter.widget-view+json": {
       "model_id": "37f05ece4c254598aafebb8242034a2e",
       "version_major": 2,
       "version_minor": 0
      },
      "text/plain": [
       "  0%|          | 0/42 [00:00<?, ?it/s]"
      ]
     },
     "metadata": {},
     "output_type": "display_data"
    },
    {
     "name": "stdout",
     "output_type": "stream",
     "text": [
      "{'eval_loss': 0.44203099608421326, 'eval_accuracy': 0.8074018126888217, 'eval_runtime': 8.7755, 'eval_samples_per_second': 150.875, 'eval_steps_per_second': 4.786, 'epoch': 0.99}\n",
      "{'loss': 0.4854, 'grad_norm': 7.213375091552734, 'learning_rate': 4.375e-05, 'epoch': 1.24}\n",
      "{'loss': 0.4463, 'grad_norm': 2.9655590057373047, 'learning_rate': 4.25e-05, 'epoch': 1.49}\n",
      "{'loss': 0.4277, 'grad_norm': 3.9805123805999756, 'learning_rate': 4.125e-05, 'epoch': 1.74}\n",
      "{'loss': 0.4595, 'grad_norm': 3.552178382873535, 'learning_rate': 4e-05, 'epoch': 1.99}\n"
     ]
    },
    {
     "data": {
      "application/vnd.jupyter.widget-view+json": {
       "model_id": "c9d54c5b319d4ea5abd13f33400a98d4",
       "version_major": 2,
       "version_minor": 0
      },
      "text/plain": [
       "  0%|          | 0/42 [00:00<?, ?it/s]"
      ]
     },
     "metadata": {},
     "output_type": "display_data"
    },
    {
     "name": "stdout",
     "output_type": "stream",
     "text": [
      "{'eval_loss': 0.3450039029121399, 'eval_accuracy': 0.851963746223565, 'eval_runtime': 7.047, 'eval_samples_per_second': 187.881, 'eval_steps_per_second': 5.96, 'epoch': 1.99}\n",
      "{'loss': 0.3804, 'grad_norm': 1.936589002609253, 'learning_rate': 3.875e-05, 'epoch': 2.23}\n",
      "{'loss': 0.3654, 'grad_norm': 2.3801538944244385, 'learning_rate': 3.7500000000000003e-05, 'epoch': 2.48}\n",
      "{'loss': 0.3775, 'grad_norm': 3.886749505996704, 'learning_rate': 3.625e-05, 'epoch': 2.73}\n",
      "{'loss': 0.3916, 'grad_norm': 3.0534963607788086, 'learning_rate': 3.5e-05, 'epoch': 2.98}\n"
     ]
    },
    {
     "data": {
      "application/vnd.jupyter.widget-view+json": {
       "model_id": "011686d636ec4f5b911ce0a10046e952",
       "version_major": 2,
       "version_minor": 0
      },
      "text/plain": [
       "  0%|          | 0/42 [00:00<?, ?it/s]"
      ]
     },
     "metadata": {},
     "output_type": "display_data"
    },
    {
     "name": "stdout",
     "output_type": "stream",
     "text": [
      "{'eval_loss': 0.27530571818351746, 'eval_accuracy': 0.8844410876132931, 'eval_runtime': 7.409, 'eval_samples_per_second': 178.702, 'eval_steps_per_second': 5.669, 'epoch': 2.98}\n",
      "{'loss': 0.3168, 'grad_norm': 3.4640796184539795, 'learning_rate': 3.375000000000001e-05, 'epoch': 3.23}\n",
      "{'loss': 0.3058, 'grad_norm': 3.0655136108398438, 'learning_rate': 3.2500000000000004e-05, 'epoch': 3.48}\n",
      "{'loss': 0.2897, 'grad_norm': 2.8209948539733887, 'learning_rate': 3.125e-05, 'epoch': 3.72}\n",
      "{'loss': 0.3091, 'grad_norm': 3.218364715576172, 'learning_rate': 3e-05, 'epoch': 3.97}\n"
     ]
    },
    {
     "data": {
      "application/vnd.jupyter.widget-view+json": {
       "model_id": "90928ff1f66c4af9bd1cf635f8f95fae",
       "version_major": 2,
       "version_minor": 0
      },
      "text/plain": [
       "  0%|          | 0/42 [00:00<?, ?it/s]"
      ]
     },
     "metadata": {},
     "output_type": "display_data"
    },
    {
     "name": "stdout",
     "output_type": "stream",
     "text": [
      "{'eval_loss': 0.19264012575149536, 'eval_accuracy': 0.9441087613293051, 'eval_runtime': 7.135, 'eval_samples_per_second': 185.564, 'eval_steps_per_second': 5.886, 'epoch': 4.0}\n",
      "{'loss': 0.2497, 'grad_norm': 5.211942195892334, 'learning_rate': 2.8749999999999997e-05, 'epoch': 4.22}\n",
      "{'loss': 0.2171, 'grad_norm': 6.918621063232422, 'learning_rate': 2.7500000000000004e-05, 'epoch': 4.47}\n",
      "{'loss': 0.2146, 'grad_norm': 3.7303125858306885, 'learning_rate': 2.625e-05, 'epoch': 4.72}\n",
      "{'loss': 0.2313, 'grad_norm': 2.990088939666748, 'learning_rate': 2.5e-05, 'epoch': 4.97}\n"
     ]
    },
    {
     "data": {
      "application/vnd.jupyter.widget-view+json": {
       "model_id": "5a4f5e3199e545fb9e830f2ea7926ce0",
       "version_major": 2,
       "version_minor": 0
      },
      "text/plain": [
       "  0%|          | 0/42 [00:00<?, ?it/s]"
      ]
     },
     "metadata": {},
     "output_type": "display_data"
    },
    {
     "name": "stdout",
     "output_type": "stream",
     "text": [
      "{'eval_loss': 0.10194070637226105, 'eval_accuracy': 0.9622356495468278, 'eval_runtime': 9.034, 'eval_samples_per_second': 146.557, 'eval_steps_per_second': 4.649, 'epoch': 4.99}\n",
      "{'loss': 0.1679, 'grad_norm': 3.1536412239074707, 'learning_rate': 2.375e-05, 'epoch': 5.21}\n",
      "{'loss': 0.1661, 'grad_norm': 3.4551992416381836, 'learning_rate': 2.25e-05, 'epoch': 5.46}\n",
      "{'loss': 0.1513, 'grad_norm': 3.8979573249816895, 'learning_rate': 2.125e-05, 'epoch': 5.71}\n",
      "{'loss': 0.1906, 'grad_norm': 3.540104627609253, 'learning_rate': 2e-05, 'epoch': 5.96}\n"
     ]
    },
    {
     "data": {
      "application/vnd.jupyter.widget-view+json": {
       "model_id": "992e4e9844c649a58b857b51718000c8",
       "version_major": 2,
       "version_minor": 0
      },
      "text/plain": [
       "  0%|          | 0/42 [00:00<?, ?it/s]"
      ]
     },
     "metadata": {},
     "output_type": "display_data"
    },
    {
     "name": "stdout",
     "output_type": "stream",
     "text": [
      "{'eval_loss': 0.06868594139814377, 'eval_accuracy': 0.9788519637462235, 'eval_runtime': 9.12, 'eval_samples_per_second': 145.175, 'eval_steps_per_second': 4.605, 'epoch': 5.99}\n",
      "{'loss': 0.1185, 'grad_norm': 2.565863609313965, 'learning_rate': 1.8750000000000002e-05, 'epoch': 6.21}\n",
      "{'loss': 0.1327, 'grad_norm': 10.15497875213623, 'learning_rate': 1.75e-05, 'epoch': 6.46}\n",
      "{'loss': 0.1304, 'grad_norm': 7.215969562530518, 'learning_rate': 1.6250000000000002e-05, 'epoch': 6.7}\n",
      "{'loss': 0.1254, 'grad_norm': 5.080470085144043, 'learning_rate': 1.5e-05, 'epoch': 6.95}\n"
     ]
    },
    {
     "data": {
      "application/vnd.jupyter.widget-view+json": {
       "model_id": "a692cbef2e244a0b8ca5f16996c7be57",
       "version_major": 2,
       "version_minor": 0
      },
      "text/plain": [
       "  0%|          | 0/42 [00:00<?, ?it/s]"
      ]
     },
     "metadata": {},
     "output_type": "display_data"
    },
    {
     "name": "stdout",
     "output_type": "stream",
     "text": [
      "{'eval_loss': 0.04863986745476723, 'eval_accuracy': 0.9848942598187311, 'eval_runtime': 7.641, 'eval_samples_per_second': 173.276, 'eval_steps_per_second': 5.497, 'epoch': 6.98}\n",
      "{'loss': 0.1069, 'grad_norm': 3.8032662868499756, 'learning_rate': 1.3750000000000002e-05, 'epoch': 7.2}\n",
      "{'loss': 0.1047, 'grad_norm': 5.640691757202148, 'learning_rate': 1.25e-05, 'epoch': 7.45}\n",
      "{'loss': 0.1028, 'grad_norm': 4.50432014465332, 'learning_rate': 1.125e-05, 'epoch': 7.7}\n",
      "{'loss': 0.0877, 'grad_norm': 4.456331729888916, 'learning_rate': 1e-05, 'epoch': 7.94}\n"
     ]
    },
    {
     "data": {
      "application/vnd.jupyter.widget-view+json": {
       "model_id": "3de671354a7f4b08912e6a8576356604",
       "version_major": 2,
       "version_minor": 0
      },
      "text/plain": [
       "  0%|          | 0/42 [00:00<?, ?it/s]"
      ]
     },
     "metadata": {},
     "output_type": "display_data"
    },
    {
     "name": "stdout",
     "output_type": "stream",
     "text": [
      "{'eval_loss': 0.03727085888385773, 'eval_accuracy': 0.9886706948640483, 'eval_runtime': 8.392, 'eval_samples_per_second': 157.769, 'eval_steps_per_second': 5.005, 'epoch': 8.0}\n",
      "{'loss': 0.0802, 'grad_norm': 5.154690265655518, 'learning_rate': 8.75e-06, 'epoch': 8.19}\n",
      "{'loss': 0.0771, 'grad_norm': 2.710310459136963, 'learning_rate': 7.5e-06, 'epoch': 8.44}\n",
      "{'loss': 0.0758, 'grad_norm': 3.08478045463562, 'learning_rate': 6.25e-06, 'epoch': 8.69}\n",
      "{'loss': 0.0887, 'grad_norm': 3.3802008628845215, 'learning_rate': 5e-06, 'epoch': 8.94}\n"
     ]
    },
    {
     "data": {
      "application/vnd.jupyter.widget-view+json": {
       "model_id": "532cfef182664b959f5332aa3679c5be",
       "version_major": 2,
       "version_minor": 0
      },
      "text/plain": [
       "  0%|          | 0/42 [00:00<?, ?it/s]"
      ]
     },
     "metadata": {},
     "output_type": "display_data"
    },
    {
     "name": "stdout",
     "output_type": "stream",
     "text": [
      "{'eval_loss': 0.022834537550807, 'eval_accuracy': 0.993202416918429, 'eval_runtime': 8.775, 'eval_samples_per_second': 150.883, 'eval_steps_per_second': 4.786, 'epoch': 8.99}\n",
      "{'loss': 0.0693, 'grad_norm': 5.052248001098633, 'learning_rate': 3.75e-06, 'epoch': 9.19}\n",
      "{'loss': 0.0584, 'grad_norm': 2.831624984741211, 'learning_rate': 2.5e-06, 'epoch': 9.43}\n",
      "{'loss': 0.0722, 'grad_norm': 4.4917497634887695, 'learning_rate': 1.25e-06, 'epoch': 9.68}\n",
      "{'loss': 0.0743, 'grad_norm': 2.6397526264190674, 'learning_rate': 0.0, 'epoch': 9.93}\n"
     ]
    },
    {
     "data": {
      "application/vnd.jupyter.widget-view+json": {
       "model_id": "9b3e71f2b95b42f2b2d2684582d45ce2",
       "version_major": 2,
       "version_minor": 0
      },
      "text/plain": [
       "  0%|          | 0/42 [00:00<?, ?it/s]"
      ]
     },
     "metadata": {},
     "output_type": "display_data"
    },
    {
     "name": "stdout",
     "output_type": "stream",
     "text": [
      "{'eval_loss': 0.020529361441731453, 'eval_accuracy': 0.9947129909365559, 'eval_runtime': 6.89, 'eval_samples_per_second': 192.164, 'eval_steps_per_second': 6.096, 'epoch': 9.93}\n",
      "{'train_runtime': 1372.8619, 'train_samples_per_second': 67.509, 'train_steps_per_second': 0.262, 'train_loss': 0.2480521000093884, 'epoch': 9.93}\n"
     ]
    },
    {
     "data": {
      "text/plain": [
       "TrainOutput(global_step=360, training_loss=0.2480521000093884, metrics={'train_runtime': 1372.8619, 'train_samples_per_second': 67.509, 'train_steps_per_second': 0.262, 'total_flos': 6555949873330176.0, 'train_loss': 0.2480521000093884, 'epoch': 9.931034482758621})"
      ]
     },
     "execution_count": 20,
     "metadata": {},
     "output_type": "execute_result"
    }
   ],
   "source": [
    "# Fine-tuning\n",
    "# https://huggingface.co/docs/transformers/training\n",
    "\n",
    "metric = evaluate.load(\"accuracy\")\n",
    "def compute_model_metrics(eval_pred):\n",
    "    global metric\n",
    "    logits, labels = eval_pred\n",
    "    preds = np.argmax(logits, axis=1)\n",
    "    return metric.compute(predictions=preds, references=labels)\n",
    "\n",
    "\n",
    "device_batch_size = 32\n",
    "grad_steps = 8\n",
    "calc_steps = len(olid_train_os) // (device_batch_size * grad_steps * 5) \n",
    "\n",
    "\n",
    "tr_args = TrainingArguments(\n",
    "    do_train=True, do_eval=True, evaluation_strategy=\"epoch\", output_dir=path_output,\n",
    "    \n",
    "    logging_steps=calc_steps, # For larger size dataset\n",
    "    eval_accumulation_steps=10, # To prevent cuda OOM after training\n",
    "    per_device_eval_batch_size=device_batch_size,\n",
    "    per_device_train_batch_size=device_batch_size,\n",
    "    bf16=True, \n",
    "    # dataloader_pin_memory=True, dataloader_num_workers=8, # Load data on GPU\n",
    "    #fp16=True,\n",
    "\n",
    "    num_train_epochs = 10, \n",
    "    gradient_accumulation_steps=grad_steps,\n",
    "    weight_decay=0.1,\n",
    "    save_strategy=\"no\",\n",
    "    # use_cpu=True\n",
    ")\n",
    "\n",
    "\n",
    "trainer = Trainer(\n",
    "    model=xlnet_model,\n",
    "    args=tr_args,\n",
    "    train_dataset=olid_train,\n",
    "    eval_dataset=olid_val,\n",
    "    compute_metrics=compute_model_metrics\n",
    ")\n",
    "trainer.train()"
   ]
  },
  {
   "cell_type": "code",
   "execution_count": 21,
   "metadata": {},
   "outputs": [
    {
     "data": {
      "application/vnd.jupyter.widget-view+json": {
       "model_id": "3010d89259e1469fa07bc3974ab35c67",
       "version_major": 2,
       "version_minor": 0
      },
      "text/plain": [
       "  0%|          | 0/83 [00:00<?, ?it/s]"
      ]
     },
     "metadata": {},
     "output_type": "display_data"
    },
    {
     "name": "stdout",
     "output_type": "stream",
     "text": [
      "(2648, 2) (2648,)\n",
      "True labels {'0': 1778, '1': 870}\n",
      "Predicted labels {'0': 1781, '1': 867}\n"
     ]
    },
    {
     "data": {
      "text/plain": [
       "{'accuracy': 0.995845921450151,\n",
       " 'f1': 0.9936672423719056,\n",
       " 'precision': 0.9953863898500577,\n",
       " 'recall': 0.9919540229885058,\n",
       " 'confusion_matrix': array([[1774,    4],\n",
       "        [   7,  863]], dtype=int64)}"
      ]
     },
     "execution_count": 21,
     "metadata": {},
     "output_type": "execute_result"
    }
   ],
   "source": [
    "predictions = trainer.predict(olid_test)\n",
    "print(predictions.predictions.shape, predictions.label_ids.shape) \n",
    "preds = np.argmax(predictions.predictions, axis=-1)\n",
    "\n",
    "labels_t = {\"0\":0, \"1\":0}\n",
    "labels_p = {\"0\":0, \"1\":0}\n",
    "for i in range(len(predictions.predictions)):\n",
    "    #print(predictions.label_ids[i], preds[i], predictions.predictions[i]) # Debug overfitting\n",
    "    labels_t[str(predictions.label_ids[i])] += 1\n",
    "    labels_p[str(preds[i])] += 1\n",
    "print(f\"True labels {labels_t}\")\n",
    "print(f\"Predicted labels {labels_p}\")\n",
    "\n",
    "loss_his = {\"tr_loss\":[], \"val_loss\":[]}\n",
    "\n",
    "for e in trainer.state.log_history:\n",
    "    if \"loss\" in e:\n",
    "        loss_his[\"tr_loss\"].append(e[\"loss\"])\n",
    "    elif \"eval_loss\" in e:\n",
    "        loss_his[\"val_loss\"].append(e[\"eval_loss\"])\n",
    "\n",
    "metric = evaluate.combine([\"accuracy\", \"f1\", \"precision\", \"recall\", \"BucketHeadP65/confusion_matrix\"])\n",
    "metric.compute(predictions=preds, references=predictions.label_ids)"
   ]
  },
  {
   "cell_type": "code",
   "execution_count": 23,
   "metadata": {},
   "outputs": [
    {
     "data": {
      "image/png": "[encoded data removed]",
      "text/plain": [
       "<Figure size 640x480 with 1 Axes>"
      ]
     },
     "metadata": {},
     "output_type": "display_data"
    },
    {
     "data": {
      "image/png": "[encoded data removed]",
      "text/plain": [
       "<Figure size 640x480 with 1 Axes>"
      ]
     },
     "metadata": {},
     "output_type": "display_data"
    }
   ],
   "source": [
    "plt.plot(loss_his[\"tr_loss\"], label=\"tr_loss\")\n",
    "plt.ylabel('loss')\n",
    "plt.xlabel('epoch')\n",
    "plt.ylim([0,2])\n",
    "plt.show()\n",
    "\n",
    "plt.plot(loss_his[\"val_loss\"], label=\"tr_loss\")\n",
    "plt.ylabel('loss')\n",
    "plt.xlabel('epoch')\n",
    "plt.ylim([0,2])\n",
    "plt.show()"
   ]
  }
 ],
 "metadata": {
  "kernelspec": {
   "display_name": "Python 3",
   "language": "python",
   "name": "python3"
  },
  "language_info": {
   "codemirror_mode": {
    "name": "ipython",
    "version": 3
   },
   "file_extension": ".py",
   "mimetype": "text/x-python",
   "name": "python",
   "nbconvert_exporter": "python",
   "pygments_lexer": "ipython3",
   "version": "3.11.9"
  }
 },
 "nbformat": 4,
 "nbformat_minor": 2
}
