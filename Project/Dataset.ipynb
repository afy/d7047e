{
 "cells": [
  {
   "cell_type": "code",
   "execution_count": 2,
   "metadata": {},
   "outputs": [
    {
     "name": "stdout",
     "output_type": "stream",
     "text": [
      "Count of reviews by sentiment: label1\n",
      "NOT    8840\n",
      "OFF    4400\n",
      "Name: count, dtype: int64\n",
      "\n",
      "Count of reviews by sentiment: label1\n",
      "1    8840\n",
      "0    4400\n",
      "Name: count, dtype: int64\n"
     ]
    },
    {
     "name": "stderr",
     "output_type": "stream",
     "text": [
      "[nltk_data] Downloading package punkt to\n",
      "[nltk_data]     C:\\Users\\39393\\AppData\\Roaming\\nltk_data...\n",
      "[nltk_data]   Package punkt is already up-to-date!\n"
     ]
    }
   ],
   "source": [
    "import pandas as pd\n",
    "from sklearn.model_selection import train_test_split\n",
    "from torch.utils.data import DataLoader, TensorDataset\n",
    "import torch\n",
    "import torch.nn as nn\n",
    "import torch.optim as optim\n",
    "from torch.nn.utils.rnn import pack_sequence\n",
    "import nltk\n",
    "from nltk.tokenize import word_tokenize\n",
    "from sklearn.metrics import accuracy_score, classification_report, confusion_matrix, roc_auc_score\n",
    "\n",
    "\n",
    "\n",
    "\n",
    "#TRAIN LOADER\n",
    "\n",
    "\n",
    "data = pd.read_csv(r'.\\OLID_Tain_ATUSER_URL_EmojiRemoved_Pedro.txt', sep='\\t', names=['id','sentence', 'label1','label2', 'label3'])  #Francesco esecution\n",
    "data = data.drop(axis = 1, labels = ['id','label2','label3'])\n",
    "data = data.drop(axis=0, index = 0 )\n",
    "\n",
    "# checking how many pos and neg reviews\n",
    "review_counts = data['label1'].value_counts()\n",
    "print(f'Count of reviews by sentiment: {review_counts}')\n",
    "\n",
    "print()\n",
    "for index, row in data.iterrows():\n",
    "    if row['label1'] == 'OFF':\n",
    "        data.at[index, 'label1'] = 0\n",
    "    else:\n",
    "        data.at[index, 'label1'] = 1\n",
    "\n",
    "# checking how many pos and neg reviews\n",
    "review_counts = data['label1'].value_counts()\n",
    "print(f'Count of reviews by sentiment: {review_counts}')\n",
    "        \n",
    "\n",
    "\n",
    "nltk.download('punkt')\n",
    "data['tokens'] = data['sentence'].apply(word_tokenize)\n",
    "\n",
    "\n",
    "# create a vocabulary and map tokens to indices\n",
    "vocab = {word: idx for idx, word in enumerate(set(word for sentence in data['tokens'] for word in sentence), 1)}\n",
    "data['indexed'] = data['tokens'].apply(lambda x: [vocab[word] for word in x])\n",
    "\n",
    "\n",
    "# pad sequences to a maximum length\n",
    "max_len = max(len(sentence) for sentence in data['indexed'])\n",
    "data['padded'] = data['indexed'].apply(lambda x: x + [0]*(max_len - len(x)))\n",
    "\n",
    "# convert to tensord and split dataset\n",
    "features = torch.tensor(data['padded'].tolist())\n",
    "labels = torch.tensor(data['label1'].tolist())\n",
    "\n",
    "\n",
    "train_features, test_features, train_labels, test_labels = train_test_split(features, labels, test_size=0.2, random_state=42)\n",
    "\n",
    "train_data = TensorDataset(train_features, train_labels)\n",
    "test_data = TensorDataset(test_features, test_labels)\n",
    "train_loader = DataLoader(train_data, batch_size=10)\n",
    "test_loader = DataLoader(test_data, batch_size=10)"
   ]
  }
 ],
 "metadata": {
  "kernelspec": {
   "display_name": "base",
   "language": "python",
   "name": "python3"
  },
  "language_info": {
   "codemirror_mode": {
    "name": "ipython",
    "version": 3
   },
   "file_extension": ".py",
   "mimetype": "text/x-python",
   "name": "python",
   "nbconvert_exporter": "python",
   "pygments_lexer": "ipython3",
   "version": "3.11.5"
  }
 },
 "nbformat": 4,
 "nbformat_minor": 2
}
