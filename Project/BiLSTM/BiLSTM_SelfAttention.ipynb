{
 "cells": [
  {
   "cell_type": "code",
   "execution_count": 17,
   "metadata": {},
   "outputs": [
    {
     "name": "stdout",
     "output_type": "stream",
     "text": [
      "Count of reviews by sentiment: label1\n",
      "NOT    8840\n",
      "OFF    4400\n",
      "Name: count, dtype: int64\n",
      "\n",
      "Count of reviews by sentiment: label1\n",
      "1    8840\n",
      "0    4400\n",
      "Name: count, dtype: int64\n"
     ]
    },
    {
     "name": "stderr",
     "output_type": "stream",
     "text": [
      "[nltk_data] Downloading package punkt to\n",
      "[nltk_data]     C:\\Users\\39393\\AppData\\Roaming\\nltk_data...\n",
      "[nltk_data]   Package punkt is already up-to-date!\n"
     ]
    },
    {
     "data": {
      "text/plain": [
       "'\\nprint(len(train_data))\\nprint(len(val_data))\\nprint(len(test_data))\\n\\nprint(len(train_data)+len(val_data)+len(test_data))\\nprint(8840+4400)\\n'"
      ]
     },
     "execution_count": 17,
     "metadata": {},
     "output_type": "execute_result"
    }
   ],
   "source": [
    "import pandas as pd\n",
    "from sklearn.model_selection import train_test_split\n",
    "from torch.utils.data import DataLoader, TensorDataset\n",
    "import torch\n",
    "import torch.nn as nn\n",
    "import torch.optim as optim\n",
    "from torch.nn.utils.rnn import pack_sequence\n",
    "import nltk\n",
    "from nltk.tokenize import word_tokenize\n",
    "from sklearn.metrics import accuracy_score, classification_report, confusion_matrix, roc_auc_score\n",
    "\n",
    "\n",
    "\n",
    "\n",
    "#TRAIN LOADER\n",
    "\n",
    "\n",
    "data = pd.read_csv(r'..\\OLID_Tain_ATUSER_URL_EmojiRemoved_Pedro.txt', sep='\\t', names=['id','sentence', 'label1','label2', 'label3'])  #Francesco esecution\n",
    "#train_data = pd.read_csv(r'/content/OLID_Tain_ATUSER_URL_EmojiRemoved_Pedro.txt', delimiter='\\t', skiprows=1, names=['id', 'sentence', 'label1', 'label2', 'label3']) # Nebos line\n",
    "\n",
    "data = data.drop(axis = 1, labels = ['id','label2','label3'])\n",
    "data = data.drop(axis=0, index=0 )\n",
    "\n",
    "# checking how many pos and neg reviews\n",
    "review_counts = data['label1'].value_counts()\n",
    "print(f'Count of reviews by sentiment: {review_counts}')\n",
    "\n",
    "print()\n",
    "for index, row in data.iterrows():\n",
    "    if row['label1'] == 'OFF':\n",
    "        data.at[index, 'label1'] = 0  # for the OFF tweets\n",
    "    else:\n",
    "        data.at[index, 'label1'] = 1 # for the NOT tweets\n",
    "\n",
    "# checking how many pos and neg reviews\n",
    "review_counts = data['label1'].value_counts()\n",
    "print(f'Count of reviews by sentiment: {review_counts}')\n",
    "\n",
    "\n",
    "\n",
    "nltk.download('punkt')\n",
    "data['tokens'] = data['sentence'].apply(word_tokenize)\n",
    "\n",
    "\n",
    "# create a vocabulary and map tokens to indices\n",
    "vocab = {word: idx for idx, word in enumerate(set(word for sentence in data['tokens'] for word in sentence), 1)}\n",
    "data['indexed'] = data['tokens'].apply(lambda x: [vocab[word] for word in x])\n",
    "\n",
    "\n",
    "# pad sequences to a maximum length\n",
    "max_len = max(len(sentence) for sentence in data['indexed'])\n",
    "data['padded'] = data['indexed'].apply(lambda x: x + [0]*(max_len - len(x)))\n",
    "\n",
    "# convert to tensord and split dataset\n",
    "features = torch.tensor(data['padded'].tolist())\n",
    "labels = torch.tensor(data['label1'].tolist())\n",
    "\n",
    "\n",
    "training_features, test_features, training_labels, test_labels = train_test_split(features, labels, test_size=0.2, random_state=42)\n",
    "\n",
    "training_data = TensorDataset(training_features, training_labels)\n",
    "test_data = TensorDataset(test_features, test_labels)\n",
    "training_loader = DataLoader(training_data, batch_size=10)\n",
    "test_loader = DataLoader(test_data, batch_size=10)\n",
    "\n",
    "train_features, val_features, train_labels, val_labels = train_test_split(training_features, training_labels, test_size=0.2)\n",
    "train_data = TensorDataset(train_features, train_labels)\n",
    "val_data = TensorDataset(val_features, val_labels)\n",
    "train_loader = DataLoader(train_data, batch_size=10)\n",
    "val_loader = DataLoader(val_data, batch_size= 10)\n",
    "\n",
    "'''\n",
    "print(len(train_data))\n",
    "print(len(val_data))\n",
    "print(len(test_data))\n",
    "\n",
    "print(len(train_data)+len(val_data)+len(test_data))\n",
    "print(8840+4400)\n",
    "'''"
   ]
  },
  {
   "cell_type": "code",
   "execution_count": 37,
   "metadata": {},
   "outputs": [],
   "source": [
    "\n",
    "class SelfAttention(nn.Module):\n",
    "    def __init__(self, hidden_dim):\n",
    "        super(SelfAttention, self).__init__()\n",
    "        self.hidden_dim = hidden_dim\n",
    "        self.projection = nn.Sequential(\n",
    "            nn.Linear(hidden_dim, 32),\n",
    "            nn.ReLU(True),\n",
    "            nn.Linear(32, 1)\n",
    "        )\n",
    "\n",
    "    def forward(self, encoder_outputs):\n",
    "       \n",
    "        energy = self.projection(encoder_outputs)  # [batch_size, seq_len, 1]\n",
    "        weights = torch.softmax(energy.squeeze(-1), dim=1)  # [batch_size, seq_len]\n",
    "        outputs = (encoder_outputs * weights.unsqueeze(-1)).sum(dim=1)  # [batch_size, hidden_dim * 2]\n",
    "        return outputs\n",
    "\n",
    "class BiLSTMWithSelfAttention(nn.Module):\n",
    "    def __init__(self, vocab_size, embedding_dim, hidden_dim, output_dim, num_layers=1):\n",
    "        super(BiLSTMWithSelfAttention, self).__init__()\n",
    "        self.embedding = nn.Embedding(vocab_size, embedding_dim)\n",
    "        self.lstm = nn.LSTM(embedding_dim, hidden_dim, num_layers=num_layers, bidirectional=True, batch_first=True)\n",
    "        self.attention = SelfAttention(hidden_dim * 2)\n",
    "        self.fc = nn.Linear(hidden_dim * 2, output_dim)\n",
    "\n",
    "    def forward(self, x):\n",
    "        embedded = self.embedding(x)\n",
    "        output, (hidden, cell) = self.lstm(embedded)\n",
    "        # Apply self-attention\n",
    "        hidden = torch.cat((hidden[-2,:,:], hidden[-1,:,:]), dim=1)\n",
    "        attended_output = self.attention(output)\n",
    "        output = self.fc(attended_output)\n",
    "        return output\n"
   ]
  },
  {
   "cell_type": "code",
   "execution_count": 38,
   "metadata": {},
   "outputs": [
    {
     "data": {
      "text/plain": [
       "BiLSTMWithSelfAttention(\n",
       "  (embedding): Embedding(24688, 50)\n",
       "  (lstm): LSTM(50, 128, batch_first=True, bidirectional=True)\n",
       "  (attention): SelfAttention(\n",
       "    (projection): Sequential(\n",
       "      (0): Linear(in_features=256, out_features=32, bias=True)\n",
       "      (1): ReLU(inplace=True)\n",
       "      (2): Linear(in_features=32, out_features=1, bias=True)\n",
       "    )\n",
       "  )\n",
       "  (fc): Linear(in_features=256, out_features=2, bias=True)\n",
       ")"
      ]
     },
     "execution_count": 38,
     "metadata": {},
     "output_type": "execute_result"
    }
   ],
   "source": [
    "# Hyperparameters\n",
    "vocab_size = len(vocab) + 1  # plus one for padding index\n",
    "embedding_dim = 50\n",
    "hidden_dim = 128\n",
    "output_dim = 2  # binary classification\n",
    "\n",
    "model = BiLSTMWithSelfAttention(vocab_size, embedding_dim, hidden_dim, output_dim)\n",
    "optimizer = optim.Adam(model.parameters(), lr=3e-3, weight_decay=1e-4)\n",
    "loss_fn = nn.CrossEntropyLoss()\n",
    "\n",
    "# GPU if available\n",
    "device = torch.device('cuda' if torch.cuda.is_available() else 'cpu')\n",
    "model.to(device)"
   ]
  },
  {
   "cell_type": "code",
   "execution_count": 39,
   "metadata": {},
   "outputs": [
    {
     "name": "stdout",
     "output_type": "stream",
     "text": [
      "Epoch 1, Training Loss: 0.6046345025972789, Validation Loss: 0.5451949068036154\n",
      "Epoch 2, Training Loss: 0.519223941405858, Validation Loss: 0.5152234345632322\n",
      "Epoch 3, Training Loss: 0.44950459194404235, Validation Loss: 0.5444289486101068\n",
      "Epoch 4, Training Loss: 0.35116048223428825, Validation Loss: 0.6565518819741507\n",
      "Epoch 5, Training Loss: 0.2316657259913462, Validation Loss: 0.7140340706462734\n"
     ]
    }
   ],
   "source": [
    "def train_model(model, train_loader, val_loader, optimizer, loss_fn, epochs=5):\n",
    "    model.train()\n",
    "    for epoch in range(epochs):\n",
    "        train_loss = 0.0\n",
    "        avg_train_loss = 0.0\n",
    "        for texts, labels in train_loader:\n",
    "            texts, labels = texts.to(device), labels.to(device)\n",
    "            optimizer.zero_grad()\n",
    "            predictions = model(texts)\n",
    "            loss = loss_fn(predictions, labels)\n",
    "            train_loss += loss.item() * texts.size(0)  # Accumulate the loss\n",
    "            loss.backward()\n",
    "            optimizer.step()\n",
    "        \n",
    "        avg_train_loss = train_loss / len(train_loader.dataset)\n",
    "\n",
    "        val_loss = 0.0\n",
    "        avg_val_loss = 0.0\n",
    "        model.eval()  # Set model to evaluation mode\n",
    "        with torch.no_grad():\n",
    "            for texts, labels in val_loader:\n",
    "                texts, labels = texts.to(device), labels.to(device)\n",
    "                predictions = model(texts)\n",
    "                loss = loss_fn(predictions, labels)\n",
    "                val_loss += loss.item() * texts.size(0)  # Accumulate the loss\n",
    "\n",
    "        avg_val_loss = val_loss/len(val_loader.dataset)\n",
    "\n",
    "        print(f'Epoch {epoch+1}, Training Loss: {avg_train_loss}, Validation Loss: {avg_val_loss}')\n",
    "\n",
    "\n",
    "\n",
    "train_model(model, train_loader, val_loader,optimizer, loss_fn)"
   ]
  },
  {
   "cell_type": "code",
   "execution_count": 40,
   "metadata": {},
   "outputs": [
    {
     "name": "stdout",
     "output_type": "stream",
     "text": [
      "Classification Report:\n",
      "              precision    recall  f1-score   support\n",
      "\n",
      "           0       0.64      0.50      0.56       915\n",
      "           1       0.76      0.85      0.81      1733\n",
      "\n",
      "    accuracy                           0.73      2648\n",
      "   macro avg       0.70      0.68      0.69      2648\n",
      "weighted avg       0.72      0.73      0.72      2648\n",
      "\n",
      "Confusion Matrix\n",
      "[[ 462  453]\n",
      " [ 259 1474]]\n",
      "ROC AUC Score:\n",
      "0.7589621585487751\n"
     ]
    },
    {
     "data": {
      "image/png": "[encoded data removed]",
      "text/plain": [
       "<Figure size 640x480 with 1 Axes>"
      ]
     },
     "metadata": {},
     "output_type": "display_data"
    },
    {
     "data": {
      "text/plain": [
       "'\\nClass-wise results:\\nEach row under the class labels (like 0 and 1 in your case,\\ntypically representing different classes such as \"OFF\" and \"NOT\")\\nshows the precision, recall, F1 score, and support for that class.\\n\\nAccuracy:\\nThis is the ratio of correctly predicted observations\\nto the total observations and is provided separately.\\n\\nMacro average:\\nThis is calculated by taking the average of\\nthe precision, recall, and F1 score for each class, without taking support\\ninto account. It treats all classes equally, regardless of how many instances\\nthere are in each class.\\n\\nWeighted average:\\nThis takes the average of the precision, recall, and F1 score\\nfor each class, weighted by the support (the number of true instances for\\neach class). This method accounts for class imbalance;\\nit calculates metrics in which each class’s metric is weighted\\nby its presence in the true data.\\n'"
      ]
     },
     "execution_count": 40,
     "metadata": {},
     "output_type": "execute_result"
    }
   ],
   "source": [
    "from sklearn.metrics import classification_report, f1_score, roc_auc_score, roc_curve, confusion_matrix\n",
    "import matplotlib.pyplot as plt\n",
    "\n",
    "def evaluate_model(model, test_loader):\n",
    "    model.eval()\n",
    "    all_labels = []\n",
    "    all_preds = []\n",
    "    all_probs = []  # List to store probabilities for the positive class\n",
    "\n",
    "    with torch.no_grad():\n",
    "        for texts, labels in test_loader:\n",
    "            texts, labels = texts.to(device), labels.to(device)\n",
    "            outputs = model(texts)\n",
    "            _, predicted = torch.max(outputs, 1)\n",
    "            all_labels.extend(labels.cpu().numpy())\n",
    "            all_preds.extend(predicted.cpu().numpy())\n",
    "            # Using softmax to calculate probabilities\n",
    "            softmax = torch.nn.Softmax(dim=1)\n",
    "            probs = softmax(outputs).cpu().numpy()[:, 1]\n",
    "            all_probs.extend(probs)\n",
    "\n",
    "    # Calculate metrics\n",
    "    print(\"Classification Report:\")\n",
    "    print(classification_report(all_labels, all_preds))\n",
    "    print(\"Confusion Matrix\")\n",
    "    print(confusion_matrix(all_labels, all_preds))\n",
    "\n",
    "    # ROC AUC and ROC Curve are applicable only for binary classification\n",
    "    if output_dim == 2:\n",
    "        roc_auc = roc_auc_score(all_labels, all_probs)\n",
    "        fpr, tpr, thresholds = roc_curve(all_labels, all_probs)\n",
    "\n",
    "        print(\"ROC AUC Score:\")\n",
    "        print(roc_auc)\n",
    "\n",
    "        # Plot ROC curve\n",
    "        plt.figure()\n",
    "        plt.plot(fpr, tpr, color='darkorange', lw=2, label='ROC curve (area = %0.2f)' % roc_auc)\n",
    "        plt.plot([0, 1], [0, 1], color='navy', lw=2, linestyle='--')\n",
    "        plt.xlim([0.0, 1.0])\n",
    "        plt.ylim([0.0, 1.05])\n",
    "        plt.xlabel('False Positive Rate')\n",
    "        plt.ylabel('True Positive Rate')\n",
    "        plt.title('Receiver Operating Characteristic')\n",
    "        plt.legend(loc=\"lower right\")\n",
    "        plt.show()\n",
    "\n",
    "evaluate_model(model, test_loader)\n",
    "\n",
    "'''\n",
    "Class-wise results:\n",
    "Each row under the class labels (like 0 and 1 in your case,\n",
    "typically representing different classes such as \"OFF\" and \"NOT\")\n",
    "shows the precision, recall, F1 score, and support for that class.\n",
    "\n",
    "Accuracy:\n",
    "This is the ratio of correctly predicted observations\n",
    "to the total observations and is provided separately.\n",
    "\n",
    "Macro average:\n",
    "This is calculated by taking the average of\n",
    "the precision, recall, and F1 score for each class, without taking support\n",
    "into account. It treats all classes equally, regardless of how many instances\n",
    "there are in each class.\n",
    "\n",
    "Weighted average:\n",
    "This takes the average of the precision, recall, and F1 score\n",
    "for each class, weighted by the support (the number of true instances for\n",
    "each class). This method accounts for class imbalance;\n",
    "it calculates metrics in which each classs metric is weighted\n",
    "by its presence in the true data.\n",
    "'''"
   ]
  }
 ],
 "metadata": {
  "kernelspec": {
   "display_name": "base",
   "language": "python",
   "name": "python3"
  },
  "language_info": {
   "codemirror_mode": {
    "name": "ipython",
    "version": 3
   },
   "file_extension": ".py",
   "mimetype": "text/x-python",
   "name": "python",
   "nbconvert_exporter": "python",
   "pygments_lexer": "ipython3",
   "version": "3.11.5"
  }
 },
 "nbformat": 4,
 "nbformat_minor": 2
}
