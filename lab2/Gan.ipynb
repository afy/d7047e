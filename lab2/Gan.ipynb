{
 "cells": [
  {
   "cell_type": "code",
   "execution_count": null,
   "id": "initial_id",
   "metadata": {
    "ExecuteTime": {
     "end_time": "2024-04-12T16:27:29.212839Z",
     "start_time": "2024-04-12T16:27:29.207466Z"
    },
    "collapsed": true
   },
   "outputs": [],
   "source": [
    "# Imports\n",
    "\n",
    "# Pytorch\n",
    "import torch\n",
    "import torch.nn as nn\n",
    "from torch.utils.data import DataLoader, SubsetRandomSampler, random_split\n",
    "from torchvision import datasets, transforms\n",
    "import torchvision\n",
    "\n",
    "# Tensorflow\n",
    "import tensorflow as tf\n",
    "from torch.utils.tensorboard import SummaryWriter\n",
    "\n",
    "# General\n",
    "import matplotlib.pyplot as plt\n",
    "import numpy as np\n",
    "import copy"
   ]
  },
  {
   "cell_type": "code",
   "execution_count": null,
   "id": "13bb7114",
   "metadata": {},
   "outputs": [],
   "source": [
    "# Misc setup\n",
    "\n",
    "# Cuda\n",
    "device = torch.device(\"cuda:0\" if torch.cuda.is_available() else \"cpu\")\n",
    "\n",
    "# Seeds\n",
    "# torch.manual_seed(1) # Un-comment for set seed (not random)"
   ]
  },
  {
   "cell_type": "code",
   "execution_count": null,
   "id": "d341f08be3d971e8",
   "metadata": {
    "ExecuteTime": {
     "end_time": "2024-04-12T16:24:01.205220Z",
     "start_time": "2024-04-12T16:24:01.174577Z"
    },
    "collapsed": false
   },
   "outputs": [],
   "source": [
    "# Dataset setup\n",
    "\n",
    "DATASET_SCALE = 0.1 # 10% of initial dataset for train, val and test\n",
    "DATASET_SPLIT = [0.8, 0.2]\n",
    "\n",
    "# Note to self: moved from /files/ to ./data for lab consistency (see lab 0)\n",
    "temp_set = torchvision.datasets.MNIST('./data', train=True, download=True)\n",
    "test_set = torchvision.datasets.MNIST('./data', train=False, download=True)\n",
    "\n",
    "subsample_train_indices = torch.randperm( len(temp_set) )[:int(len(temp_set)*DATASET_SCALE)]\n",
    "temp_set = DataLoader(test_set, sampler=SubsetRandomSampler(subsample_train_indices))\n",
    "\n",
    "subsample_test_indices = torch.randperm( len(test_set) )[:int(len(test_set)*DATASET_SCALE)]\n",
    "test_set = DataLoader(test_set, sampler=SubsetRandomSampler(subsample_test_indices))\n",
    "\n",
    "train_dataset, val_dataset = random_split(temp_set, DATASET_SPLIT)"
   ]
  },
  {
   "cell_type": "code",
   "execution_count": null,
   "id": "cfbd849a437cf72",
   "metadata": {
    "collapsed": false
   },
   "outputs": [],
   "source": [
    "# Note to self: Combining discriminator and generator into one class\n",
    "class SimpleGAN(nn.Module):\n",
    "    def __init__(self, loss):\n",
    "        self.loss = loss\n",
    "\n",
    "    def forward_discriminator(self, x):\n",
    "        pass # ---\n",
    "\n",
    "    def forward_generator(self, x):\n",
    "        pass # ---\n",
    "        return self.forward_discriminator(x)"
   ]
  },
  {
   "cell_type": "code",
   "execution_count": null,
   "id": "d60465d8",
   "metadata": {},
   "outputs": [],
   "source": [
    "# Task 2.1 Vanilla GAN\n",
    "gan1 = SimpleGAN(loss=\"Normal loss not implemented\")"
   ]
  },
  {
   "cell_type": "code",
   "execution_count": null,
   "id": "6a806e4d",
   "metadata": {},
   "outputs": [],
   "source": [
    "# Task 2.2 Vanilla GAN\n",
    "gan2 = SimpleGAN(loss=\"Logistic loss not implemented\")"
   ]
  },
  {
   "cell_type": "code",
   "execution_count": null,
   "id": "ccb1f227",
   "metadata": {},
   "outputs": [],
   "source": [
    "# Conditional GAN (CGAN)\n",
    "class CGAN(nn.Module):\n",
    "    def __init__(self):\n",
    "        pass\n",
    "\n",
    "    def forward_discriminator(self, x):\n",
    "        pass # ---\n",
    "\n",
    "    def forward_generator(self, x):\n",
    "        pass # ---\n",
    "        return self.forward_discriminator(x)"
   ]
  },
  {
   "cell_type": "code",
   "execution_count": null,
   "id": "9520535b",
   "metadata": {},
   "outputs": [],
   "source": [
    "# Task 2.3\n",
    "gan3 = CGAN()"
   ]
  },
  {
   "cell_type": "code",
   "execution_count": null,
   "id": "c2ca0317",
   "metadata": {},
   "outputs": [],
   "source": [
    "# GAN Using CNN MNIST generator\n",
    "class CnnGenGAN(nn.Module):\n",
    "    def __init__(self):\n",
    "        pass\n",
    "\n",
    "    def forward_discriminator(self, x):\n",
    "        pass # ---\n",
    "\n",
    "    def forward_generator(self, x):\n",
    "        pass # ---\n",
    "        return self.forward_discriminator(x)"
   ]
  },
  {
   "cell_type": "code",
   "execution_count": null,
   "id": "e7592273",
   "metadata": {},
   "outputs": [],
   "source": [
    "# Task 2.4\n",
    "gan4 = CnnGenGAN()"
   ]
  }
 ],
 "metadata": {
  "kernelspec": {
   "display_name": "Python 3",
   "language": "python",
   "name": "python3"
  },
  "language_info": {
   "codemirror_mode": {
    "name": "ipython",
    "version": 3
   },
   "file_extension": ".py",
   "mimetype": "text/x-python",
   "name": "python",
   "nbconvert_exporter": "python",
   "pygments_lexer": "ipython3",
   "version": "3.11.9"
  }
 },
 "nbformat": 4,
 "nbformat_minor": 5
}
