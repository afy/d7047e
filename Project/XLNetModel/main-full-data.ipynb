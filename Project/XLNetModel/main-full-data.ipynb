{
 "cells": [
  {
   "cell_type": "markdown",
   "metadata": {},
   "source": [
    "# XLNet version 1\n",
    "\n",
    "Hate speech identification project, D7047E <br>\n",
    "Binary text classification task using pretrained XLNet models"
   ]
  },
  {
   "cell_type": "code",
   "execution_count": 1,
   "metadata": {},
   "outputs": [
    {
     "name": "stdout",
     "output_type": "stream",
     "text": [
      "using cuda\n"
     ]
    },
    {
     "name": "stderr",
     "output_type": "stream",
     "text": [
      "c:\\Users\\hanne\\Desktop\\d7047e\\Project\\XLNetModel\\..\\proj_dataset.py:18: UserWarning: Disabling panda dataframe warnings, to enable comment out lines below\n",
      "  warnings.warn(\"Disabling panda dataframe warnings, to enable comment out lines below\")\n"
     ]
    }
   ],
   "source": [
    "\"\"\" \n",
    "%pip install numpy\n",
    "%pip install torch\n",
    "%pip install torchvision\n",
    "%pip install sentencepiece\n",
    "%pip install transformers\n",
    "%pip install datasets\n",
    "%pip install evaluate\n",
    "%pip install accelerate\n",
    "%pip install imbalanced-learn\n",
    "\"\"\"\n",
    "\n",
    "# PyTorch\n",
    "import torch\n",
    "import torchvision\n",
    "\n",
    "# Hugging Face\n",
    "from transformers import XLNetTokenizer, XLNetForSequenceClassification\n",
    "from transformers import TrainingArguments, Trainer\n",
    "from datasets import Dataset\n",
    "import datasets\n",
    "import evaluate\n",
    "\n",
    "# Misc\n",
    "from tqdm import tqdm, trange\n",
    "import pandas as pd\n",
    "import numpy as np\n",
    "from matplotlib import pyplot as plt\n",
    "\n",
    "# Set up loaders \n",
    "import sys; sys.path.append(\"..\")\n",
    "import proj_dataset\n",
    "proj_dataset.FOLDERSPATH = r'..\\\\datasets'\n",
    "proj_dataset.SOLID_HARDLINECAP = 40_000\n",
    "\n",
    "# Set up cudas\n",
    "device = torch.device(\"cuda\" if torch.cuda.is_available() else \"cpu\")\n",
    "if torch.cuda.is_available(): torch.cuda.empty_cache()\n",
    "print(f\"using {device}\")"
   ]
  },
  {
   "cell_type": "code",
   "execution_count": 2,
   "metadata": {},
   "outputs": [
    {
     "name": "stdout",
     "output_type": "stream",
     "text": [
      "Loaded 13240 lines from ..\\\\datasets\\\\OLID\\\\OLID_Tain.txt\n",
      "Loaded 5852 lines from english_dataset.tsv\n",
      "Loaded 1153 lines from hasoc2019_en_test-2919.tsv\n",
      "Loaded 40000 lines from file_off.xlsx to ensure sufficient randomness, cap: 20000\n",
      "Loaded 40000 lines from file_not.xlsx to ensure sufficient randomness, cap: 20000\n"
     ]
    },
    {
     "name": "stderr",
     "output_type": "stream",
     "text": [
      "[nltk_data] Downloading package punkt to\n",
      "[nltk_data]     C:\\Users\\hanne\\AppData\\Roaming\\nltk_data...\n",
      "[nltk_data]   Package punkt is already up-to-date!\n"
     ]
    },
    {
     "name": "stdout",
     "output_type": "stream",
     "text": [
      "24891 60438 19891 24687 87417\n"
     ]
    }
   ],
   "source": [
    "d,v,_,_,_ = proj_dataset.get_loaders()"
   ]
  },
  {
   "cell_type": "code",
   "execution_count": 3,
   "metadata": {},
   "outputs": [
    {
     "name": "stdout",
     "output_type": "stream",
     "text": [
      "Loaded 40000 lines from file_off.xlsx to ensure sufficient randomness, cap: 20000\n",
      "Loaded 40000 lines from file_not.xlsx to ensure sufficient randomness, cap: 20000\n"
     ]
    }
   ],
   "source": [
    "solid_path = r'..\\\\datasets' + r'\\\\OffenseEval\\\\'\n",
    "file_off = r'file_off.xlsx'\n",
    "file_not = r'file_not.xlsx'\n",
    "d_off = proj_dataset._load_ds3_file(\n",
    "            solid_path, \n",
    "            file_off, \n",
    "            nrows=40000, \n",
    "            capsize=20000)\n",
    "\n",
    "\n",
    "d_not = proj_dataset._load_ds3_file(\n",
    "            solid_path, \n",
    "            file_not, \n",
    "            nrows=40000, \n",
    "            capsize=20000)"
   ]
  },
  {
   "cell_type": "code",
   "execution_count": 11,
   "metadata": {},
   "outputs": [
    {
     "name": "stdout",
     "output_type": "stream",
     "text": [
      "{'0': 8000, '1': 8000}\n",
      "{'0': 32000, '1': 32000}\n"
     ]
    }
   ],
   "source": [
    "def afsdas(v, b):\n",
    "    for i in b[1]:\n",
    "        v[str(i.item())] += 1\n",
    "\n",
    "def getTrainLabelDistrib(loader):\n",
    "    labels_dist = {\"0\":0, \"1\":0}\n",
    "    for e in loader:\n",
    "        afsdas(labels_dist, e)\n",
    "    print(labels_dist)\n",
    "\n",
    "getTrainLabelDistrib(d)\n",
    "getTrainLabelDistrib(v)"
   ]
  },
  {
   "cell_type": "code",
   "execution_count": 6,
   "metadata": {},
   "outputs": [],
   "source": [
    "# Constants and vars\n",
    "\n",
    "# aux files\n",
    "path_output = r\"trained\\\\\"\n",
    "\n",
    "# Constants\n",
    "GLOBAL_SEED = 1337\n",
    "TOKENIZER_MAX_LENGTH = 128 #100 works with 1 epoch \n",
    "torch.manual_seed(GLOBAL_SEED)\n",
    "\n",
    "tokenizer_config = {\n",
    "    \"padding\": \"max_length\", \n",
    "    \"truncation\": \"longest_first\",\n",
    "    \"max_length\": TOKENIZER_MAX_LENGTH,\n",
    "    #\"add_special_tokens\": True,\n",
    "    #\"return_tensors\": \"pt\",\n",
    "    #\"return_token_type_ids\": False, \n",
    "    #\"return_attention_mask\": True, \n",
    "    #\"pad_to_max_length\": False\n",
    "}"
   ]
  },
  {
   "cell_type": "code",
   "execution_count": 7,
   "metadata": {},
   "outputs": [],
   "source": [
    "tokenizer = XLNetTokenizer.from_pretrained(\n",
    "    'xlnet-base-cased',\n",
    "    device=device\n",
    ")\n",
    "\n",
    "def tokenize_examples(examples):\n",
    "    return tokenizer(examples[\"text\"], **tokenizer_config)"
   ]
  },
  {
   "cell_type": "code",
   "execution_count": 8,
   "metadata": {},
   "outputs": [],
   "source": [
    "# Load and split dataset\n",
    "def load_test_set():\n",
    "    olid_dataset = pd.read_csv(path_tr, sep=\"\\t\", names=[\"id\",\"text\",\"label\",\"other_1\",\"other_2\"])\n",
    "    olid_dataset = olid_dataset.drop(axis=0, index=0) # Remove column names\n",
    "    olid_dataset = olid_dataset.drop(axis=1, labels=[\"id\", \"other_1\", \"other_2\"]).to_dict()\n",
    "    for i in trange(len(olid_dataset[\"label\"])):\n",
    "        olid_dataset[\"label\"][i+1] = 1 if olid_dataset[\"label\"][i+1] == \"OFF\" else 0 \n",
    "\n",
    "    olid_dataset = {\n",
    "        \"label\": [y for y in olid_dataset[\"label\"].values()],\n",
    "        \"text\": [x for x in olid_dataset[\"text\"].values()]     \n",
    "    }\n",
    "\n",
    "    olid_dataset = Dataset.from_dict(olid_dataset)\n",
    "    olid_dataset = olid_dataset.map(tokenize_examples, batched=True)\n",
    "    print(olid_dataset)"
   ]
  },
  {
   "cell_type": "code",
   "execution_count": 9,
   "metadata": {},
   "outputs": [],
   "source": [
    "def getTrainLabelDistrib(loader):\n",
    "    labels_dist = {}\n",
    "    for e in loader:\n",
    "        lab = e[\"label\"]\n",
    "        if lab in labels_dist:\n",
    "            labels_dist[lab] += 1\n",
    "        else:\n",
    "            labels_dist[lab] = 0\n",
    "    print(labels_dist)"
   ]
  },
  {
   "cell_type": "code",
   "execution_count": 10,
   "metadata": {},
   "outputs": [
    {
     "ename": "NameError",
     "evalue": "name 'olid_test' is not defined",
     "output_type": "error",
     "traceback": [
      "\u001b[1;31m---------------------------------------------------------------------------\u001b[0m",
      "\u001b[1;31mNameError\u001b[0m                                 Traceback (most recent call last)",
      "Cell \u001b[1;32mIn[10], line 1\u001b[0m\n\u001b[1;32m----> 1\u001b[0m getTrainLabelDistrib(\u001b[43molid_test\u001b[49m)\n\u001b[0;32m      2\u001b[0m getTrainLabelDistrib(olid_train)\n\u001b[0;32m      3\u001b[0m getTrainLabelDistrib(olid_val)\n",
      "\u001b[1;31mNameError\u001b[0m: name 'olid_test' is not defined"
     ]
    }
   ],
   "source": [
    "getTrainLabelDistrib(olid_test)\n",
    "getTrainLabelDistrib(olid_train)\n",
    "getTrainLabelDistrib(olid_val)\n",
    "getTrainLabelDistrib(olid_train_os)"
   ]
  },
  {
   "cell_type": "code",
   "execution_count": null,
   "metadata": {},
   "outputs": [],
   "source": [
    "# Model \n",
    "# docs: https://huggingface.co/docs/transformers/model_doc/xlnet\n",
    "\n",
    "xlnet_model = XLNetForSequenceClassification.from_pretrained(\n",
    "    \"xlnet-base-cased\", \n",
    "    num_labels=2\n",
    ")\n",
    "xlnet_model.to(device)\n",
    "\n",
    "print(xlnet_model.config)\n",
    "print(next(xlnet_model.parameters()).is_cuda)"
   ]
  },
  {
   "cell_type": "code",
   "execution_count": null,
   "metadata": {},
   "outputs": [],
   "source": [
    "# Fine-tuning\n",
    "# https://huggingface.co/docs/transformers/training\n",
    "\n",
    "metric = evaluate.load(\"accuracy\")\n",
    "def compute_model_metrics(eval_pred):\n",
    "    global metric\n",
    "    logits, labels = eval_pred\n",
    "    preds = np.argmax(logits, axis=1)\n",
    "    return metric.compute(predictions=preds, references=labels)\n",
    "\n",
    "\n",
    "device_batch_size = 32\n",
    "grad_steps = 8\n",
    "calc_steps = len(olid_train_os) // (device_batch_size * grad_steps * 5) \n",
    "\n",
    "\n",
    "tr_args = TrainingArguments(\n",
    "    do_train=True, do_eval=True, evaluation_strategy=\"epoch\", output_dir=path_output,\n",
    "    \n",
    "    logging_steps=calc_steps, # For larger size dataset\n",
    "    eval_accumulation_steps=10, # To prevent cuda OOM after training\n",
    "    per_device_eval_batch_size=device_batch_size,\n",
    "    per_device_train_batch_size=device_batch_size,\n",
    "    bf16=True, \n",
    "    # dataloader_pin_memory=True, dataloader_num_workers=8, # Load data on GPU\n",
    "    #fp16=True,\n",
    "\n",
    "    num_train_epochs = 10, \n",
    "    gradient_accumulation_steps=grad_steps,\n",
    "    weight_decay=0.1,\n",
    "    save_strategy=\"no\",\n",
    "    # use_cpu=True\n",
    ")\n",
    "\n",
    "\n",
    "trainer = Trainer(\n",
    "    model=xlnet_model,\n",
    "    args=tr_args,\n",
    "    train_dataset=olid_train,\n",
    "    eval_dataset=olid_val,\n",
    "    compute_metrics=compute_model_metrics\n",
    ")\n",
    "trainer.train()"
   ]
  },
  {
   "cell_type": "code",
   "execution_count": null,
   "metadata": {},
   "outputs": [],
   "source": [
    "predictions = trainer.predict(olid_test)\n",
    "print(predictions.predictions.shape, predictions.label_ids.shape) \n",
    "preds = np.argmax(predictions.predictions, axis=-1)\n",
    "\n",
    "labels_t = {\"0\":0, \"1\":0}\n",
    "labels_p = {\"0\":0, \"1\":0}\n",
    "for i in range(len(predictions.predictions)):\n",
    "    #print(predictions.label_ids[i], preds[i], predictions.predictions[i]) # Debug overfitting\n",
    "    labels_t[str(predictions.label_ids[i])] += 1\n",
    "    labels_p[str(preds[i])] += 1\n",
    "print(f\"True labels {labels_t}\")\n",
    "print(f\"Predicted labels {labels_p}\")\n",
    "\n",
    "loss_his = {\"tr_loss\":[], \"val_loss\":[]}\n",
    "\n",
    "for e in trainer.state.log_history:\n",
    "    if \"loss\" in e:\n",
    "        loss_his[\"tr_loss\"].append(e[\"loss\"])\n",
    "    elif \"eval_loss\" in e:\n",
    "        loss_his[\"val_loss\"].append(e[\"eval_loss\"])\n",
    "\n",
    "metric = evaluate.combine([\"accuracy\", \"f1\", \"precision\", \"recall\", \"BucketHeadP65/confusion_matrix\"])\n",
    "metric.compute(predictions=preds, references=predictions.label_ids)"
   ]
  },
  {
   "cell_type": "code",
   "execution_count": null,
   "metadata": {},
   "outputs": [],
   "source": [
    "plt.plot(loss_his[\"tr_loss\"], label=\"tr_loss\")\n",
    "plt.ylabel('loss')\n",
    "plt.xlabel('epoch')\n",
    "plt.ylim([0,2])\n",
    "plt.show()\n",
    "\n",
    "plt.plot(loss_his[\"val_loss\"], label=\"tr_loss\")\n",
    "plt.ylabel('loss')\n",
    "plt.xlabel('epoch')\n",
    "plt.ylim([0,2])\n",
    "plt.show()"
   ]
  }
 ],
 "metadata": {
  "kernelspec": {
   "display_name": "Python 3",
   "language": "python",
   "name": "python3"
  },
  "language_info": {
   "codemirror_mode": {
    "name": "ipython",
    "version": 3
   },
   "file_extension": ".py",
   "mimetype": "text/x-python",
   "name": "python",
   "nbconvert_exporter": "python",
   "pygments_lexer": "ipython3",
   "version": "3.11.9"
  }
 },
 "nbformat": 4,
 "nbformat_minor": 2
}
