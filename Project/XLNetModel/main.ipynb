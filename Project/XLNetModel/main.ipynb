{
 "cells": [
  {
   "cell_type": "markdown",
   "metadata": {},
   "source": [
    "# XLNet version 1\n",
    "\n",
    "Hate speech identification project, D7047E <br>\n",
    "Binary text classification task using pretrained XLNet models"
   ]
  },
  {
   "cell_type": "code",
   "execution_count": null,
   "metadata": {},
   "outputs": [],
   "source": [
    "\"\"\" \n",
    "%pip install numpy\n",
    "%pip install torch\n",
    "%pip install torchvision\n",
    "%pip install sentencepiece\n",
    "%pip install transformers\n",
    "%pip install datasets\n",
    "%pip install evaluate\n",
    "%pip install accelerate\n",
    "%pip install imbalanced-learn\n",
    "\"\"\"\n",
    "\n",
    "# PyTorch\n",
    "import torch\n",
    "import torch.nn as nn\n",
    "import torch.nn.functional as F\n",
    "from torch.optim.lr_scheduler import LambdaLR\n",
    "import torchvision\n",
    "\n",
    "# Hugging Face\n",
    "from transformers import XLNetConfig, XLNetTokenizer, XLNetForSequenceClassification\n",
    "from transformers import TrainingArguments, Trainer\n",
    "from datasets import Dataset\n",
    "import datasets\n",
    "import evaluate\n",
    "\n",
    "# Misc\n",
    "from tqdm import tqdm, trange\n",
    "import sentencepiece as spm\n",
    "import pandas as pd\n",
    "import numpy as np\n",
    "import os\n",
    "from matplotlib import pyplot as plt\n",
    "from imblearn.over_sampling import SMOTE\n",
    "\n",
    "device = torch.device(\"cuda\" if torch.cuda.is_available() else \"cpu\")\n",
    "print(f\"using {device}\")\n",
    "\n",
    "if torch.cuda.is_available(): torch.cuda.empty_cache()"
   ]
  },
  {
   "cell_type": "code",
   "execution_count": null,
   "metadata": {},
   "outputs": [],
   "source": [
    "# Constants and vars\n",
    "\n",
    "# aux files\n",
    "path_tr = r\"..\\\\OLID_Tain.txt\" \n",
    "path_te_a = r\"..\\\\OLID_TEST.txt\" \n",
    "path_spm = r\"data\\\\proj_xlnet\" # +.model / +.vocab\n",
    "path_output = r\"trained\\\\\"\n",
    "\n",
    "# Constants\n",
    "GLOBAL_SEED = 1337\n",
    "TOKENIZER_MAX_LENGTH = 128 #100 works with 1 epoch \n",
    "torch.manual_seed(GLOBAL_SEED)\n",
    "\n",
    "tokenizer_config = {\n",
    "    \"padding\": \"max_length\", \n",
    "    \"truncation\": \"longest_first\",\n",
    "    \"max_length\": TOKENIZER_MAX_LENGTH,\n",
    "    #\"add_special_tokens\": True,\n",
    "    #\"return_tensors\": \"pt\",\n",
    "    #\"return_token_type_ids\": False, \n",
    "    #\"return_attention_mask\": True, \n",
    "    #\"pad_to_max_length\": False\n",
    "}"
   ]
  },
  {
   "cell_type": "code",
   "execution_count": null,
   "metadata": {},
   "outputs": [],
   "source": [
    "tokenizer = XLNetTokenizer.from_pretrained(\n",
    "    'xlnet-base-cased',\n",
    "    #additional_special_tokens = [\"@USER\"], NOTE THIS LINE RUINS EVERYTHING\n",
    "    # ^ this note was written at 1:30 am on a tuesday\n",
    "    device=device\n",
    ")\n",
    "\n",
    "def tokenize_examples(examples):\n",
    "    return tokenizer(examples[\"text\"], **tokenizer_config)"
   ]
  },
  {
   "cell_type": "code",
   "execution_count": null,
   "metadata": {},
   "outputs": [],
   "source": [
    "# Load and split dataset\n",
    "olid_dataset = pd.read_csv(path_tr, sep=\"\\t\", names=[\"id\",\"text\",\"label\",\"other_1\",\"other_2\"])\n",
    "olid_dataset = olid_dataset.drop(axis=0, index=0) # Remove column names\n",
    "olid_dataset = olid_dataset.drop(axis=1, labels=[\"id\", \"other_1\", \"other_2\"]).to_dict()\n",
    "for i in trange(len(olid_dataset[\"label\"])):\n",
    "    olid_dataset[\"label\"][i+1] = 1 if olid_dataset[\"label\"][i+1] == \"OFF\" else 0 \n",
    "\n",
    "olid_dataset = {\n",
    "    \"label\": [y for y in olid_dataset[\"label\"].values()],\n",
    "    \"text\": [x for x in olid_dataset[\"text\"].values()]     \n",
    "}\n",
    "\n",
    "olid_dataset = Dataset.from_dict(olid_dataset)\n",
    "olid_dataset = olid_dataset.map(tokenize_examples, batched=True)\n",
    "print(olid_dataset)"
   ]
  },
  {
   "cell_type": "code",
   "execution_count": null,
   "metadata": {},
   "outputs": [],
   "source": [
    "def _get_split(s):\n",
    "    return [int(x * olid_dataset.num_rows) for x in s]\n",
    "    \n",
    "split = _get_split([0.7, 0.1, 0.2])\n",
    "olid_train = olid_dataset.shuffle(seed=GLOBAL_SEED).select(range(split[0]))\n",
    "olid_val = olid_dataset.shuffle(seed=GLOBAL_SEED).select(range(split[1]))\n",
    "olid_test = olid_dataset.shuffle(seed=GLOBAL_SEED).select(range(split[2]))\n",
    "print(olid_train)\n",
    "print(olid_val)\n",
    "print(olid_test)\n"
   ]
  },
  {
   "cell_type": "code",
   "execution_count": 38,
   "metadata": {},
   "outputs": [
    {
     "data": {
      "application/vnd.jupyter.widget-view+json": {
       "model_id": "d2f8ba00c2dc474aabb425c840ab25ba",
       "version_major": 2,
       "version_minor": 0
      },
      "text/plain": [
       "Map:   0%|          | 0/12412 [00:00<?, ? examples/s]"
      ]
     },
     "metadata": {},
     "output_type": "display_data"
    }
   ],
   "source": [
    "# Prevent overfitting by oversampling class 1\n",
    "sm = SMOTE()\n",
    "\n",
    "X = olid_train[\"input_ids\"]\n",
    "y = olid_train[\"label\"]\n",
    "\n",
    "X = np.array(X)\n",
    "y = np.array(y)\n",
    "\n",
    "X_res, y_res = sm.fit_resample(X, y)\n",
    "print(X_res.shape, X.shape)\n",
    "\n",
    "X_res = [tokenizer.decode(X_res[i], skip_special_tokens=True) for i in range(len(X_res))]\n",
    "\n",
    "olid_train_os = Dataset.from_dict({\"text\": X_res, \"label\":y_res})\n",
    "olid_train_os = olid_train_os.map(tokenize_examples, batched=True)"
   ]
  },
  {
   "cell_type": "code",
   "execution_count": 39,
   "metadata": {},
   "outputs": [],
   "source": [
    "def getTrainLabelDistrib(loader):\n",
    "    labels_dist = {}\n",
    "    for e in loader:\n",
    "        lab = e[\"label\"]\n",
    "        if lab in labels_dist:\n",
    "            labels_dist[lab] += 1\n",
    "        else:\n",
    "            labels_dist[lab] = 0\n",
    "    print(labels_dist)"
   ]
  },
  {
   "cell_type": "code",
   "execution_count": 40,
   "metadata": {},
   "outputs": [
    {
     "name": "stdout",
     "output_type": "stream",
     "text": [
      "{0: 6205, 1: 6205}\n"
     ]
    }
   ],
   "source": [
    "#getTrainLabelDistrib(olid_test)\n",
    "#getTrainLabelDistrib(olid_train)\n",
    "#getTrainLabelDistrib(olid_val)\n",
    "getTrainLabelDistrib(olid_train_os)"
   ]
  },
  {
   "cell_type": "code",
   "execution_count": 41,
   "metadata": {},
   "outputs": [
    {
     "name": "stderr",
     "output_type": "stream",
     "text": [
      "Some weights of XLNetForSequenceClassification were not initialized from the model checkpoint at xlnet-base-cased and are newly initialized: ['logits_proj.bias', 'logits_proj.weight', 'sequence_summary.summary.bias', 'sequence_summary.summary.weight']\n",
      "You should probably TRAIN this model on a down-stream task to be able to use it for predictions and inference.\n"
     ]
    },
    {
     "name": "stdout",
     "output_type": "stream",
     "text": [
      "XLNetConfig {\n",
      "  \"_name_or_path\": \"xlnet-base-cased\",\n",
      "  \"architectures\": [\n",
      "    \"XLNetLMHeadModel\"\n",
      "  ],\n",
      "  \"attn_type\": \"bi\",\n",
      "  \"bi_data\": false,\n",
      "  \"bos_token_id\": 1,\n",
      "  \"clamp_len\": -1,\n",
      "  \"d_head\": 64,\n",
      "  \"d_inner\": 3072,\n",
      "  \"d_model\": 768,\n",
      "  \"dropout\": 0.1,\n",
      "  \"end_n_top\": 5,\n",
      "  \"eos_token_id\": 2,\n",
      "  \"ff_activation\": \"gelu\",\n",
      "  \"initializer_range\": 0.02,\n",
      "  \"layer_norm_eps\": 1e-12,\n",
      "  \"mem_len\": null,\n",
      "  \"model_type\": \"xlnet\",\n",
      "  \"n_head\": 12,\n",
      "  \"n_layer\": 12,\n",
      "  \"pad_token_id\": 5,\n",
      "  \"reuse_len\": null,\n",
      "  \"same_length\": false,\n",
      "  \"start_n_top\": 5,\n",
      "  \"summary_activation\": \"tanh\",\n",
      "  \"summary_last_dropout\": 0.1,\n",
      "  \"summary_type\": \"last\",\n",
      "  \"summary_use_proj\": true,\n",
      "  \"task_specific_params\": {\n",
      "    \"text-generation\": {\n",
      "      \"do_sample\": true,\n",
      "      \"max_length\": 250\n",
      "    }\n",
      "  },\n",
      "  \"transformers_version\": \"4.40.2\",\n",
      "  \"untie_r\": true,\n",
      "  \"use_mems_eval\": true,\n",
      "  \"use_mems_train\": false,\n",
      "  \"vocab_size\": 32000\n",
      "}\n",
      "\n",
      "True\n"
     ]
    }
   ],
   "source": [
    "# Model \n",
    "# docs: https://huggingface.co/docs/transformers/model_doc/xlnet\n",
    "\n",
    "xlnet_model = XLNetForSequenceClassification.from_pretrained(\n",
    "    \"xlnet-base-cased\", \n",
    "    num_labels=2\n",
    ")\n",
    "xlnet_model.to(device)\n",
    "\n",
    "print(xlnet_model.config)\n",
    "print(next(xlnet_model.parameters()).is_cuda)"
   ]
  },
  {
   "cell_type": "code",
   "execution_count": 42,
   "metadata": {},
   "outputs": [
    {
     "data": {
      "application/vnd.jupyter.widget-view+json": {
       "model_id": "2bccaa372dd0404192ae247b1b53c540",
       "version_major": 2,
       "version_minor": 0
      },
      "text/plain": [
       "  0%|          | 0/870 [00:00<?, ?it/s]"
      ]
     },
     "metadata": {},
     "output_type": "display_data"
    },
    {
     "name": "stdout",
     "output_type": "stream",
     "text": [
      "{'loss': 0.5864, 'grad_norm': 6.2802042961120605, 'learning_rate': 4.557471264367816e-05, 'epoch': 0.27}\n",
      "{'loss': 0.5006, 'grad_norm': 3.641277313232422, 'learning_rate': 4.1149425287356325e-05, 'epoch': 0.53}\n",
      "{'loss': 0.4948, 'grad_norm': 6.483986854553223, 'learning_rate': 3.672413793103448e-05, 'epoch': 0.8}\n"
     ]
    },
    {
     "data": {
      "application/vnd.jupyter.widget-view+json": {
       "model_id": "7035fa7b47db416caf28b7acceab43d9",
       "version_major": 2,
       "version_minor": 0
      },
      "text/plain": [
       "  0%|          | 0/42 [00:00<?, ?it/s]"
      ]
     },
     "metadata": {},
     "output_type": "display_data"
    },
    {
     "name": "stdout",
     "output_type": "stream",
     "text": [
      "{'eval_loss': 0.37510573863983154, 'eval_accuracy': 0.8557401812688822, 'eval_runtime': 4.117, 'eval_samples_per_second': 321.593, 'eval_steps_per_second': 10.202, 'epoch': 1.0}\n",
      "{'loss': 0.455, 'grad_norm': 3.6640496253967285, 'learning_rate': 3.229885057471265e-05, 'epoch': 1.06}\n",
      "{'loss': 0.3981, 'grad_norm': 6.977750778198242, 'learning_rate': 2.787356321839081e-05, 'epoch': 1.33}\n",
      "{'loss': 0.3935, 'grad_norm': 2.7005958557128906, 'learning_rate': 2.3448275862068967e-05, 'epoch': 1.59}\n",
      "{'loss': 0.3933, 'grad_norm': 6.777024745941162, 'learning_rate': 1.9022988505747128e-05, 'epoch': 1.86}\n"
     ]
    },
    {
     "data": {
      "application/vnd.jupyter.widget-view+json": {
       "model_id": "96a0fdbd301740b1b965c384239ee63f",
       "version_major": 2,
       "version_minor": 0
      },
      "text/plain": [
       "  0%|          | 0/42 [00:00<?, ?it/s]"
      ]
     },
     "metadata": {},
     "output_type": "display_data"
    },
    {
     "name": "stdout",
     "output_type": "stream",
     "text": [
      "{'eval_loss': 0.2685081660747528, 'eval_accuracy': 0.9018126888217523, 'eval_runtime': 3.915, 'eval_samples_per_second': 338.187, 'eval_steps_per_second': 10.728, 'epoch': 2.0}\n",
      "{'loss': 0.3632, 'grad_norm': 5.160616874694824, 'learning_rate': 1.459770114942529e-05, 'epoch': 2.12}\n",
      "{'loss': 0.2805, 'grad_norm': 4.600411891937256, 'learning_rate': 1.0172413793103449e-05, 'epoch': 2.39}\n",
      "{'loss': 0.2776, 'grad_norm': 5.239594459533691, 'learning_rate': 5.747126436781609e-06, 'epoch': 2.66}\n",
      "{'loss': 0.2822, 'grad_norm': 6.391677379608154, 'learning_rate': 1.3218390804597702e-06, 'epoch': 2.92}\n"
     ]
    },
    {
     "data": {
      "application/vnd.jupyter.widget-view+json": {
       "model_id": "075ff303b9854c7c9c59121c7aa64aca",
       "version_major": 2,
       "version_minor": 0
      },
      "text/plain": [
       "  0%|          | 0/42 [00:00<?, ?it/s]"
      ]
     },
     "metadata": {},
     "output_type": "display_data"
    },
    {
     "name": "stdout",
     "output_type": "stream",
     "text": [
      "{'eval_loss': 0.1885427087545395, 'eval_accuracy': 0.9358006042296072, 'eval_runtime': 3.928, 'eval_samples_per_second': 337.067, 'eval_steps_per_second': 10.692, 'epoch': 3.0}\n",
      "{'train_runtime': 229.3828, 'train_samples_per_second': 121.212, 'train_steps_per_second': 3.793, 'train_loss': 0.3990607880997932, 'epoch': 3.0}\n"
     ]
    },
    {
     "data": {
      "text/plain": [
       "TrainOutput(global_step=870, training_loss=0.3990607880997932, metrics={'train_runtime': 229.3828, 'train_samples_per_second': 121.212, 'train_steps_per_second': 3.793, 'total_flos': 1980202823165952.0, 'train_loss': 0.3990607880997932, 'epoch': 3.0})"
      ]
     },
     "execution_count": 42,
     "metadata": {},
     "output_type": "execute_result"
    }
   ],
   "source": [
    "# Fine-tuning\n",
    "# https://huggingface.co/docs/transformers/training\n",
    "\n",
    "metric = evaluate.load(\"accuracy\")\n",
    "def compute_model_metrics(eval_pred):\n",
    "    global metric\n",
    "    logits, labels = eval_pred\n",
    "    preds = np.argmax(logits, axis=1)\n",
    "    return metric.compute(predictions=preds, references=labels)\n",
    "\n",
    "\n",
    "device_batch_size = 32\n",
    "calc_steps = len(olid_train_os) // device_batch_size // 5\n",
    "\n",
    "\n",
    "tr_args = TrainingArguments(\n",
    "    do_train=True, do_eval=True, evaluation_strategy=\"epoch\", output_dir=path_output,\n",
    "    \n",
    "    logging_steps=calc_steps, # For larger size dataset\n",
    "    eval_accumulation_steps=10, # To prevent cuda OOM after training\n",
    "    per_device_eval_batch_size=device_batch_size,\n",
    "    per_device_train_batch_size=device_batch_size,\n",
    "    bf16=True, \n",
    "    #fp16=True,\n",
    "\n",
    "    num_train_epochs = 3, \n",
    "    weight_decay=0.1,\n",
    "    save_strategy=\"no\",\n",
    "    # use_cpu=True\n",
    ")\n",
    "\n",
    "\n",
    "trainer = Trainer(\n",
    "    model=xlnet_model,\n",
    "    args=tr_args,\n",
    "    train_dataset=olid_train,\n",
    "    eval_dataset=olid_val,\n",
    "    compute_metrics=compute_model_metrics\n",
    ")\n",
    "trainer.train()"
   ]
  },
  {
   "cell_type": "code",
   "execution_count": 43,
   "metadata": {},
   "outputs": [
    {
     "data": {
      "application/vnd.jupyter.widget-view+json": {
       "model_id": "8286b4f35fb24365853095b5e1d12c4c",
       "version_major": 2,
       "version_minor": 0
      },
      "text/plain": [
       "  0%|          | 0/83 [00:00<?, ?it/s]"
      ]
     },
     "metadata": {},
     "output_type": "display_data"
    },
    {
     "name": "stdout",
     "output_type": "stream",
     "text": [
      "(2648, 2) (2648,)\n",
      "True labels {'0': 1778, '1': 870}\n",
      "Predicted labels {'0': 1743, '1': 905}\n"
     ]
    },
    {
     "data": {
      "text/plain": [
       "{'accuracy': 0.9369335347432024,\n",
       " 'f1': 0.9059154929577464,\n",
       " 'precision': 0.8883977900552487,\n",
       " 'recall': 0.9241379310344827,\n",
       " 'confusion_matrix': array([[1677,  101],\n",
       "        [  66,  804]], dtype=int64)}"
      ]
     },
     "execution_count": 43,
     "metadata": {},
     "output_type": "execute_result"
    }
   ],
   "source": [
    "predictions = trainer.predict(olid_test)\n",
    "print(predictions.predictions.shape, predictions.label_ids.shape) \n",
    "preds = np.argmax(predictions.predictions, axis=-1)\n",
    "\n",
    "labels_t = {\"0\":0, \"1\":0}\n",
    "labels_p = {\"0\":0, \"1\":0}\n",
    "for i in range(len(predictions.predictions)):\n",
    "    #print(predictions.label_ids[i], preds[i], predictions.predictions[i]) # Debug overfitting\n",
    "    labels_t[str(predictions.label_ids[i])] += 1\n",
    "    labels_p[str(preds[i])] += 1\n",
    "print(f\"True labels {labels_t}\")\n",
    "print(f\"Predicted labels {labels_p}\")\n",
    "\n",
    "loss_his = {\"tr_loss\":[], \"val_loss\":[]}\n",
    "\n",
    "for e in trainer.state.log_history:\n",
    "    if \"loss\" in e:\n",
    "        loss_his[\"tr_loss\"].append(e[\"loss\"])\n",
    "    elif \"eval_loss\" in e:\n",
    "        loss_his[\"val_loss\"].append(e[\"eval_loss\"])\n",
    "\n",
    "metric = evaluate.combine([\"accuracy\", \"f1\", \"precision\", \"recall\", \"BucketHeadP65/confusion_matrix\"])\n",
    "metric.compute(predictions=preds, references=predictions.label_ids)"
   ]
  },
  {
   "cell_type": "code",
   "execution_count": 44,
   "metadata": {},
   "outputs": [
    {
     "data": {
      "image/png": "[encoded data removed]",
      "text/plain": [
       "<Figure size 640x480 with 1 Axes>"
      ]
     },
     "metadata": {},
     "output_type": "display_data"
    },
    {
     "data": {
      "image/png": "[encoded data removed]",
      "text/plain": [
       "<Figure size 640x480 with 1 Axes>"
      ]
     },
     "metadata": {},
     "output_type": "display_data"
    }
   ],
   "source": [
    "plt.plot(loss_his[\"tr_loss\"], label=\"tr_loss\")\n",
    "plt.ylabel('loss')\n",
    "plt.xlabel('epoch')\n",
    "plt.ylim([0,2])\n",
    "plt.show()\n",
    "\n",
    "plt.plot(loss_his[\"val_loss\"], label=\"tr_loss\")\n",
    "plt.ylabel('loss')\n",
    "plt.xlabel('epoch')\n",
    "plt.ylim([0,2])\n",
    "plt.show()"
   ]
  }
 ],
 "metadata": {
  "kernelspec": {
   "display_name": "Python 3",
   "language": "python",
   "name": "python3"
  },
  "language_info": {
   "codemirror_mode": {
    "name": "ipython",
    "version": 3
   },
   "file_extension": ".py",
   "mimetype": "text/x-python",
   "name": "python",
   "nbconvert_exporter": "python",
   "pygments_lexer": "ipython3",
   "version": "3.11.9"
  }
 },
 "nbformat": 4,
 "nbformat_minor": 2
}
