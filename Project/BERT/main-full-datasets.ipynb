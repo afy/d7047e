{
 "cells": [
  {
   "cell_type": "code",
   "execution_count": 1,
   "metadata": {},
   "outputs": [
    {
     "name": "stdout",
     "output_type": "stream",
     "text": [
      "using cuda\n"
     ]
    },
    {
     "name": "stderr",
     "output_type": "stream",
     "text": [
      "c:\\Users\\hanne\\Desktop\\d7047e\\Project\\BERT\\..\\proj_dataset.py:18: UserWarning: Disabling panda dataframe warnings, to enable comment out lines below\n",
      "  warnings.warn(\"Disabling panda dataframe warnings, to enable comment out lines below\")\n"
     ]
    }
   ],
   "source": [
    "import pandas as pd\n",
    "import numpy as np\n",
    "import pandas as pd\n",
    "import torch\n",
    "from transformers import BertTokenizer, BertForSequenceClassification, AdamW, get_linear_schedule_with_warmup\n",
    "from torch.utils.data import DataLoader, RandomSampler, SequentialSampler, TensorDataset\n",
    "from sklearn.model_selection import train_test_split\n",
    "import re\n",
    "import matplotlib.pyplot as plt\n",
    "from sklearn.metrics import f1_score, classification_report, confusion_matrix, ConfusionMatrixDisplay\n",
    "\n",
    "# Set up loaders \n",
    "import sys; sys.path.append(\"..\")\n",
    "import proj_dataset\n",
    "proj_dataset.FOLDERSPATH = r'..\\\\datasets'\n",
    "\n",
    "# Set up cudas\n",
    "device = torch.device(\"cuda\" if torch.cuda.is_available() else \"cpu\")\n",
    "if torch.cuda.is_available(): torch.cuda.empty_cache()\n",
    "print(f\"using {device}\")"
   ]
  },
  {
   "cell_type": "code",
   "execution_count": 2,
   "metadata": {},
   "outputs": [],
   "source": [
    "tokenizer = BertTokenizer.from_pretrained('bert-base-uncased')"
   ]
  },
  {
   "cell_type": "code",
   "execution_count": 3,
   "metadata": {},
   "outputs": [],
   "source": [
    "# OLID dataset\n",
    "def get_loader(dataset, train_ds=False):\n",
    "    texts = dataset[\"sentence\"]\n",
    "    labels = dataset[\"label1\"]\n",
    "    encodings = tokenizer(list(texts), truncation=True, padding=True, max_length=128)\n",
    "\n",
    "    # Convert to torch tensors\n",
    "    seq = torch.tensor(encodings['input_ids'])\n",
    "    mask = torch.tensor(encodings['attention_mask'])\n",
    "    y = torch.Tensor(labels.astype(int).to_numpy())\n",
    "\n",
    "    batch_size = 32\n",
    "\n",
    "    if train_ds:\n",
    "        data = TensorDataset(seq, mask, y)\n",
    "        sampler = RandomSampler(data)\n",
    "        dataloader = DataLoader(data, sampler=sampler, batch_size=batch_size)\n",
    "\n",
    "    else:    \n",
    "        data = TensorDataset(seq, mask, y)\n",
    "        sampler = SequentialSampler(data)\n",
    "        dataloader = DataLoader(data, sampler=sampler, batch_size=batch_size)\n",
    "\n",
    "    return dataloader\n"
   ]
  },
  {
   "cell_type": "code",
   "execution_count": 4,
   "metadata": {},
   "outputs": [
    {
     "name": "stdout",
     "output_type": "stream",
     "text": [
      "Loaded 100000 lines from file_off.xlsx to ensure sufficient randomness, cap: 20000\n",
      "Loaded 100000 lines from file_not.xlsx to ensure sufficient randomness, cap: 20000\n",
      "Loaded 13240 lines from ..\\\\datasets\\\\OLID\\\\OLID_Tain.txt\n",
      "Loaded 5852 lines from english_dataset.tsv\n",
      "Loaded 1153 lines from hasoc2019_en_test-2919.tsv\n"
     ]
    }
   ],
   "source": [
    "tr_set, vl_set = proj_dataset._load_solid_set(size=40_000, tr_split_perc=0.8)\n",
    "te1_set = proj_dataset._load_olid_test_set()\n",
    "te2_set = proj_dataset._load_hasoc_test_set()"
   ]
  },
  {
   "cell_type": "code",
   "execution_count": 5,
   "metadata": {},
   "outputs": [],
   "source": [
    "train_dataloader = get_loader(tr_set, train_ds=True)\n",
    "val_dataloader = get_loader(vl_set)\n",
    "test_loader_1 = get_loader(te1_set)\n",
    "test_loader_2 = get_loader(te2_set)"
   ]
  },
  {
   "cell_type": "code",
   "execution_count": 6,
   "metadata": {},
   "outputs": [
    {
     "name": "stderr",
     "output_type": "stream",
     "text": [
      "Some weights of BertForSequenceClassification were not initialized from the model checkpoint at bert-base-uncased and are newly initialized: ['classifier.bias', 'classifier.weight']\n",
      "You should probably TRAIN this model on a down-stream task to be able to use it for predictions and inference.\n",
      "C:\\Users\\hanne\\AppData\\Local\\Packages\\PythonSoftwareFoundation.Python.3.11_qbz5n2kfra8p0\\LocalCache\\local-packages\\Python311\\site-packages\\transformers\\optimization.py:521: FutureWarning: This implementation of AdamW is deprecated and will be removed in a future version. Use the PyTorch implementation torch.optim.AdamW instead, or set `no_deprecation_warning=True` to disable this warning\n",
      "  warnings.warn(\n"
     ]
    }
   ],
   "source": [
    "# Model configuration\n",
    "device = torch.device(\"cuda\" if torch.cuda.is_available() else \"cpu\")\n",
    "model = BertForSequenceClassification.from_pretrained('bert-base-uncased', num_labels=2)\n",
    "model.to(device)\n",
    "\n",
    "# Optimizer and learning rate scheduler setup\n",
    "optimizer = AdamW(model.parameters(), lr=2e-5)\n",
    "total_steps = len(train_dataloader) * 3  # Assuming 3 epochs\n",
    "scheduler = get_linear_schedule_with_warmup(optimizer, num_warmup_steps=0, num_training_steps=total_steps)"
   ]
  },
  {
   "cell_type": "code",
   "execution_count": 7,
   "metadata": {},
   "outputs": [],
   "source": [
    "# Updated evaluate function\n",
    "def evaluate(dataloader, in_loop=False):\n",
    "    model.eval()\n",
    "    total_eval_accuracy = 0\n",
    "    total_eval_loss = 0\n",
    "    y_true = []\n",
    "    y_pred = []\n",
    "\n",
    "    for batch in dataloader:\n",
    "        batch = tuple(t.to(device) for t in batch)\n",
    "        b_input_ids, b_input_mask, b_labels = batch\n",
    "        b_labels = b_labels.to(int)\n",
    "        with torch.no_grad():\n",
    "            outputs = model(b_input_ids, token_type_ids=None, attention_mask=b_input_mask, labels=b_labels)\n",
    "        logits = outputs[1]\n",
    "        loss = outputs[0]\n",
    "        total_eval_loss += loss.item()\n",
    "        logits = logits.detach().cpu().numpy()\n",
    "        label_ids = b_labels.to('cpu').numpy()\n",
    "        total_eval_accuracy += np.sum(np.argmax(logits, axis=1) == label_ids)\n",
    "        y_true.extend(label_ids)\n",
    "        y_pred.extend(np.argmax(logits, axis=1))\n",
    "\n",
    "    f1 = f1_score(y_true, y_pred)\n",
    "    avg_loss = total_eval_loss / len(dataloader)\n",
    "    return total_eval_accuracy / len(dataloader.dataset), avg_loss, f1\n",
    "\n",
    "\n",
    "def test_model(model, test_loader):\n",
    "    model.eval()\n",
    "    total_eval_accuracy = 0\n",
    "    total_eval_loss = 0\n",
    "    y_true = []\n",
    "    y_pred = []\n",
    "\n",
    "    for batch in test_loader:\n",
    "        batch = tuple(t.to(device) for t in batch)\n",
    "        b_input_ids, b_input_mask, b_labels = batch\n",
    "        b_labels = b_labels.to(int)\n",
    "        with torch.no_grad():\n",
    "            outputs = model(b_input_ids, token_type_ids=None, attention_mask=b_input_mask, labels=b_labels)\n",
    "        logits = outputs[1]\n",
    "        loss = outputs[0]\n",
    "        total_eval_loss += loss.item()\n",
    "        logits = logits.detach().cpu().numpy()\n",
    "        label_ids = b_labels.to('cpu').numpy()\n",
    "        total_eval_accuracy += np.sum(np.argmax(logits, axis=1) == label_ids)\n",
    "        y_true.extend(label_ids)\n",
    "        y_pred.extend(np.argmax(logits, axis=1))\n",
    "\n",
    "    f1 = f1_score(y_true, y_pred)\n",
    "\n",
    "    # Calculate metrics\n",
    "    print(\"Classification Report:\")\n",
    "    print(classification_report(y_true, y_pred))\n",
    "    print(\"Confusion Matrix\")\n",
    "    print(confusion_matrix(y_true, y_pred))"
   ]
  },
  {
   "cell_type": "code",
   "execution_count": 8,
   "metadata": {},
   "outputs": [
    {
     "name": "stdout",
     "output_type": "stream",
     "text": [
      "Epoch 1 | Train Loss: 0.030 | Validation Loss: 0.006 | Validation F1: 0.998\n",
      "Epoch 2 | Train Loss: 0.002 | Validation Loss: 0.002 | Validation F1: 0.999\n",
      "Epoch 3 | Train Loss: 0.000 | Validation Loss: 0.002 | Validation F1: 0.999\n"
     ]
    }
   ],
   "source": [
    "# Validation function\n",
    "train_losses = []\n",
    "val_losses = []\n",
    "\n",
    "# Training loop with loss tracking\n",
    "for epoch in range(3):\n",
    "    model.train()\n",
    "    total_train_loss = 0\n",
    "    for batch in train_dataloader:\n",
    "        batch = tuple(t.to(device) for t in batch)\n",
    "        b_input_ids, b_input_mask, b_labels = batch\n",
    "        b_labels = b_labels.to(int)\n",
    "        model.zero_grad()\n",
    "        outputs = model(b_input_ids, token_type_ids=None, attention_mask=b_input_mask, labels=b_labels)\n",
    "        loss = outputs[0]\n",
    "        loss.backward()\n",
    "        optimizer.step()\n",
    "        scheduler.step()\n",
    "        total_train_loss += loss.item()\n",
    "\n",
    "    avg_train_loss = total_train_loss / len(train_dataloader)\n",
    "    train_losses.append(avg_train_loss)\n",
    "\n",
    "    val_accuracy, avg_val_loss, val_f1 = evaluate(val_dataloader, in_loop=True)\n",
    "    val_losses.append(avg_val_loss)\n",
    "    print(\n",
    "        f\"Epoch {epoch + 1} | Train Loss: {avg_train_loss:.3f} | Validation Loss: {avg_val_loss:.3f} | Validation F1: {val_f1:.3f}\")"
   ]
  },
  {
   "cell_type": "code",
   "execution_count": 10,
   "metadata": {},
   "outputs": [
    {
     "data": {
      "image/png": "[encoded data removed]",
      "text/plain": [
       "<Figure size 640x480 with 1 Axes>"
      ]
     },
     "metadata": {},
     "output_type": "display_data"
    },
    {
     "name": "stdout",
     "output_type": "stream",
     "text": [
      "Classification Report:\n",
      "              precision    recall  f1-score   support\n",
      "\n",
      "           0       0.67      0.76      0.71      4400\n",
      "           1       0.87      0.81      0.84      8840\n",
      "\n",
      "    accuracy                           0.79     13240\n",
      "   macro avg       0.77      0.78      0.77     13240\n",
      "weighted avg       0.80      0.79      0.80     13240\n",
      "\n",
      "Confusion Matrix\n",
      "[[3323 1077]\n",
      " [1671 7169]]\n",
      "Test OLID Accuracy: None\n",
      "Classification Report:\n",
      "              precision    recall  f1-score   support\n",
      "\n",
      "           0       0.50      0.70      0.58      2549\n",
      "           1       0.78      0.59      0.67      4456\n",
      "\n",
      "    accuracy                           0.63      7005\n",
      "   macro avg       0.64      0.65      0.63      7005\n",
      "weighted avg       0.67      0.63      0.64      7005\n",
      "\n",
      "Confusion Matrix\n",
      "[[1784  765]\n",
      " [1811 2645]]\n",
      "Test HASOC Accuracy: None\n"
     ]
    }
   ],
   "source": [
    "# Plot training and validation losses\n",
    "plt.figure()\n",
    "plt.plot(train_losses, label='Training loss')\n",
    "plt.plot(val_losses, label='Validation loss')\n",
    "plt.title('Training and Validation Loss')\n",
    "plt.xlabel('Epochs')\n",
    "plt.ylabel('Loss')\n",
    "plt.legend()\n",
    "plt.show()\n",
    "\n",
    "# Evaluate on test set\n",
    "test_accuracy = test_model(model, test_loader_1)\n",
    "print(f\"Test OLID Accuracy: {test_accuracy}\")\n",
    "test_accuracy = test_model(model, test_loader_2)\n",
    "print(f\"Test HASOC Accuracy: {test_accuracy}\")"
   ]
  }
 ],
 "metadata": {
  "kernelspec": {
   "display_name": "Python 3",
   "language": "python",
   "name": "python3"
  },
  "language_info": {
   "codemirror_mode": {
    "name": "ipython",
    "version": 3
   },
   "file_extension": ".py",
   "mimetype": "text/x-python",
   "name": "python",
   "nbconvert_exporter": "python",
   "pygments_lexer": "ipython3",
   "version": "3.11.9"
  }
 },
 "nbformat": 4,
 "nbformat_minor": 2
}
