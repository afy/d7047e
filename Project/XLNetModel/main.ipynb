{
 "cells": [
  {
   "cell_type": "markdown",
   "metadata": {},
   "source": [
    "# Title"
   ]
  },
  {
   "cell_type": "code",
   "execution_count": 1,
   "metadata": {},
   "outputs": [
    {
     "name": "stderr",
     "output_type": "stream",
     "text": [
      "c:\\Users\\39393\\anaconda3\\Lib\\site-packages\\torchvision\\io\\image.py:13: UserWarning: Failed to load image Python extension: '[WinError 127] Impossibile trovare la procedura specificata'If you don't plan on using image functionality from `torchvision.io`, you can ignore this warning. Otherwise, there might be something wrong with your environment. Did you have `libjpeg` or `libpng` installed before building `torchvision` from source?\n",
      "  warn(\n"
     ]
    },
    {
     "name": "stdout",
     "output_type": "stream",
     "text": [
      "using cpu\n"
     ]
    }
   ],
   "source": [
    "import torch\n",
    "import torch.nn as nn\n",
    "import torch.nn.functional as F\n",
    "\n",
    "import torchvision\n",
    "\n",
    "from transformers import XLNetModel, XLNetConfig\n",
    "\n",
    "from tqdm import tqdm\n",
    "from data_loading_code import *\n",
    "\n",
    "device = torch.device(\"cuda:0\" if torch.cuda.is_available() else \"cpu\")\n",
    "print(f\"using {device}\")"
   ]
  },
  {
   "cell_type": "code",
   "execution_count": 3,
   "metadata": {},
   "outputs": [],
   "source": [
    "import pandas as pd\n",
    "from sklearn.model_selection import train_test_split\n",
    "from torch.utils.data import DataLoader, TensorDataset\n",
    "import torch\n",
    "import torch.nn as nn\n",
    "import torch.optim as optim\n",
    "from torch.nn.utils.rnn import pack_sequence\n",
    "import nltk\n",
    "from nltk.tokenize import word_tokenize\n",
    "from sklearn.metrics import accuracy_score, classification_report, confusion_matrix, roc_auc_score\n"
   ]
  },
  {
   "cell_type": "code",
   "execution_count": 23,
   "metadata": {},
   "outputs": [
    {
     "name": "stdout",
     "output_type": "stream",
     "text": [
      "Count of reviews by sentiment: label1\n",
      "NOT    8840\n",
      "OFF    4400\n",
      "Name: count, dtype: int64\n",
      "\n",
      "Count of reviews by sentiment: label1\n",
      "1    8840\n",
      "0    4400\n",
      "Name: count, dtype: int64\n"
     ]
    },
    {
     "name": "stderr",
     "output_type": "stream",
     "text": [
      "[nltk_data] Downloading package punkt to\n",
      "[nltk_data]     C:\\Users\\39393\\AppData\\Roaming\\nltk_data...\n",
      "[nltk_data]   Package punkt is already up-to-date!\n"
     ]
    }
   ],
   "source": [
    "#TRAIN LOADER\n",
    "\n",
    "\n",
    "data = pd.read_csv(r'..\\OLID_Tain_ATUSER_URL_EmojiRemoved_Pedro.txt', sep='\\t', names=['id','sentence', 'label1','label2', 'label3'])  #Francesco esecution\n",
    "data = data.drop(axis = 1, labels = ['id','label2','label3'])\n",
    "data = data.drop(axis=0, index = 0 )\n",
    "\n",
    "# checking how many pos and neg reviews\n",
    "review_counts = data['label1'].value_counts()\n",
    "print(f'Count of reviews by sentiment: {review_counts}')\n",
    "\n",
    "print()\n",
    "for index, row in data.iterrows():\n",
    "    if row['label1'] == 'OFF':\n",
    "        data.at[index, 'label1'] = 0\n",
    "    else:\n",
    "        data.at[index, 'label1'] = 1\n",
    "\n",
    "# checking how many pos and neg reviews\n",
    "review_counts = data['label1'].value_counts()\n",
    "print(f'Count of reviews by sentiment: {review_counts}')\n",
    "        \n",
    "\n",
    "\n",
    "nltk.download('punkt')\n",
    "data['tokens'] = data['sentence'].apply(word_tokenize)\n",
    "\n",
    "\n",
    "# create a vocabulary and map tokens to indices\n",
    "vocab = {word: idx for idx, word in enumerate(set(word for sentence in data['tokens'] for word in sentence), 1)}\n",
    "data['indexed'] = data['tokens'].apply(lambda x: [vocab[word] for word in x])\n",
    "\n",
    "\n",
    "# pad sequences to a maximum length\n",
    "max_len = max(len(sentence) for sentence in data['indexed'])\n",
    "data['padded'] = data['indexed'].apply(lambda x: x + [0]*(max_len - len(x)))\n",
    "\n",
    "# convert to tensord and split dataset\n",
    "features = torch.tensor(data['padded'].tolist())\n",
    "labels = torch.tensor(data['label1'].tolist())\n",
    "\n",
    "\n",
    "train_features, test_features, train_labels, test_labels = train_test_split(features, labels, test_size=0.2, random_state=42)\n",
    "\n",
    "train_data = TensorDataset(train_features, train_labels)\n",
    "test_data = TensorDataset(test_features, test_labels)\n",
    "train_loader = DataLoader(train_data, batch_size=10)\n",
    "test_loader = DataLoader(test_data, batch_size=10)"
   ]
  },
  {
   "cell_type": "code",
   "execution_count": null,
   "metadata": {},
   "outputs": [
    {
     "name": "stdout",
     "output_type": "stream",
     "text": [
      "XLNetConfig {\n",
      "  \"attn_type\": \"bi\",\n",
      "  \"bi_data\": false,\n",
      "  \"bos_token_id\": 1,\n",
      "  \"clamp_len\": -1,\n",
      "  \"d_head\": 64,\n",
      "  \"d_inner\": 4096,\n",
      "  \"d_model\": 1024,\n",
      "  \"dropout\": 0.1,\n",
      "  \"end_n_top\": 5,\n",
      "  \"eos_token_id\": 2,\n",
      "  \"ff_activation\": \"gelu\",\n",
      "  \"initializer_range\": 0.02,\n",
      "  \"layer_norm_eps\": 1e-12,\n",
      "  \"mem_len\": 512,\n",
      "  \"model_type\": \"xlnet\",\n",
      "  \"n_head\": 16,\n",
      "  \"n_layer\": 24,\n",
      "  \"pad_token_id\": 5,\n",
      "  \"reuse_len\": null,\n",
      "  \"same_length\": false,\n",
      "  \"start_n_top\": 5,\n",
      "  \"summary_activation\": \"tanh\",\n",
      "  \"summary_last_dropout\": 0.1,\n",
      "  \"summary_type\": \"last\",\n",
      "  \"summary_use_proj\": true,\n",
      "  \"transformers_version\": \"4.40.1\",\n",
      "  \"untie_r\": true,\n",
      "  \"use_mems_eval\": true,\n",
      "  \"use_mems_train\": false,\n",
      "  \"vocab_size\": 32000\n",
      "}\n",
      "\n"
     ]
    }
   ],
   "source": [
    "# XLNet model + setup\n",
    "# docs: https://huggingface.co/docs/transformers/model_doc/xlnet\n",
    "\n",
    "config = XLNetConfig()\n",
    "model = XLNetModel(config)\n",
    "print(model.config)"
   ]
  },
  {
   "cell_type": "code",
   "execution_count": null,
   "metadata": {},
   "outputs": [],
   "source": [
    "# Training"
   ]
  }
 ],
 "metadata": {
  "kernelspec": {
   "display_name": "Python 3",
   "language": "python",
   "name": "python3"
  },
  "language_info": {
   "codemirror_mode": {
    "name": "ipython",
    "version": 3
   },
   "file_extension": ".py",
   "mimetype": "text/x-python",
   "name": "python",
   "nbconvert_exporter": "python",
   "pygments_lexer": "ipython3",
   "version": "3.11.5"
  }
 },
 "nbformat": 4,
 "nbformat_minor": 2
}
